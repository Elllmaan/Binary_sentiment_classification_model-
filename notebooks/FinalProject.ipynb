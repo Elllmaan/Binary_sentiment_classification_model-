{
  "nbformat": 4,
  "nbformat_minor": 0,
  "metadata": {
    "colab": {
      "provenance": [],
      "toc_visible": true
    },
    "kernelspec": {
      "name": "python3",
      "display_name": "Python 3"
    },
    "language_info": {
      "name": "python"
    }
  },
  "cells": [
    {
      "cell_type": "markdown",
      "source": [
        "# Preliminaries"
      ],
      "metadata": {
        "id": "9D2H6fuv5igJ"
      }
    },
    {
      "cell_type": "code",
      "source": [
        "import warnings\n",
        "\n",
        "warnings.filterwarnings(\"ignore\")"
      ],
      "metadata": {
        "id": "hj52KCDh5mtR"
      },
      "execution_count": null,
      "outputs": []
    },
    {
      "cell_type": "markdown",
      "source": [
        "## Importing the libraries"
      ],
      "metadata": {
        "id": "ryim1zta5pS4"
      }
    },
    {
      "cell_type": "code",
      "source": [
        "import re\n",
        "import string\n",
        "import numpy as np\n",
        "import pandas as pd\n",
        "import matplotlib.pyplot as plt\n",
        "import seaborn as sns\n",
        "import nltk\n",
        "\n",
        "from collections import Counter\n",
        "from nltk.tokenize import word_tokenize\n",
        "from nltk.stem import PorterStemmer, WordNetLemmatizer\n",
        "from nltk.corpus import stopwords, wordnet\n",
        "\n",
        "from sklearn.feature_extraction.text import CountVectorizer, TfidfVectorizer, HashingVectorizer\n",
        "from sklearn.linear_model import LogisticRegression\n",
        "from sklearn.naive_bayes import MultinomialNB\n",
        "from sklearn.svm import LinearSVC\n",
        "from sklearn.model_selection import train_test_split\n",
        "from sklearn.metrics import accuracy_score\n",
        "\n",
        "#Download required NLTK resources\n",
        "\n",
        "nltk.download('punkt')\n",
        "nltk.download('punkt_tab')\n",
        "nltk.download('stopwords')\n",
        "nltk.download('wordnet')\n",
        "nltk.download('averaged_perceptron_tagger')\n",
        "nltk.download('averaged_perceptron_tagger_eng')"
      ],
      "metadata": {
        "id": "keO4UOXB5r93",
        "colab": {
          "base_uri": "https://localhost:8080/"
        },
        "outputId": "005b83b5-1374-439a-f970-06e222b49ffa"
      },
      "execution_count": null,
      "outputs": [
        {
          "output_type": "stream",
          "name": "stderr",
          "text": [
            "[nltk_data] Downloading package punkt to /root/nltk_data...\n",
            "[nltk_data]   Package punkt is already up-to-date!\n",
            "[nltk_data] Downloading package punkt_tab to /root/nltk_data...\n",
            "[nltk_data]   Package punkt_tab is already up-to-date!\n",
            "[nltk_data] Downloading package stopwords to /root/nltk_data...\n",
            "[nltk_data]   Package stopwords is already up-to-date!\n",
            "[nltk_data] Downloading package wordnet to /root/nltk_data...\n",
            "[nltk_data]   Package wordnet is already up-to-date!\n",
            "[nltk_data] Downloading package averaged_perceptron_tagger to\n",
            "[nltk_data]     /root/nltk_data...\n",
            "[nltk_data]   Package averaged_perceptron_tagger is already up-to-\n",
            "[nltk_data]       date!\n",
            "[nltk_data] Downloading package averaged_perceptron_tagger_eng to\n",
            "[nltk_data]     /root/nltk_data...\n",
            "[nltk_data]   Package averaged_perceptron_tagger_eng is already up-to-\n",
            "[nltk_data]       date!\n"
          ]
        },
        {
          "output_type": "execute_result",
          "data": {
            "text/plain": [
              "True"
            ]
          },
          "metadata": {},
          "execution_count": 34
        }
      ]
    },
    {
      "cell_type": "markdown",
      "source": [
        "# EDA"
      ],
      "metadata": {
        "id": "GvAmTkhc5cF9"
      }
    },
    {
      "cell_type": "markdown",
      "source": [
        "Loading the dataset"
      ],
      "metadata": {
        "id": "bBrwa9Nr52wi"
      }
    },
    {
      "cell_type": "code",
      "source": [
        "train_file_path = 'https://media.githubusercontent.com/media/Elllmaan/Epam/refs/heads/main/train.csv'\n",
        "test_file_path  = 'https://media.githubusercontent.com/media/Elllmaan/Epam/refs/heads/main/test.csv'\n",
        "\n",
        "# Load train and test data\n",
        "df_train = pd.read_csv(train_file_path, sep=',')\n",
        "df_test  = pd.read_csv(test_file_path, sep=',')\n",
        "\n",
        "# Quick look at the data\n",
        "print(\"Training Data Shape:\", df_train.shape)\n",
        "print(\"Test Data Shape:\", df_test.shape)\n",
        "print(\"\\nTraining Data Sample:\")\n",
        "display(df_train.head())\n",
        "print(\"\\nTest Data Sample:\")\n",
        "display(df_test.head())\n"
      ],
      "metadata": {
        "colab": {
          "base_uri": "https://localhost:8080/",
          "height": 502
        },
        "id": "aN-AlutPA1yY",
        "outputId": "077a6d5a-eb51-41ea-f6d5-450d40f1e552"
      },
      "execution_count": null,
      "outputs": [
        {
          "output_type": "stream",
          "name": "stdout",
          "text": [
            "Training Data Shape: (40000, 2)\n",
            "Test Data Shape: (10000, 2)\n",
            "\n",
            "Training Data Sample:\n"
          ]
        },
        {
          "output_type": "display_data",
          "data": {
            "text/plain": [
              "                                              review sentiment\n",
              "0  I caught this little gem totally by accident b...  positive\n",
              "1  I can't believe that I let myself into this mo...  negative\n",
              "2  *spoiler alert!* it just gets to me the nerve ...  negative\n",
              "3  If there's one thing I've learnt from watching...  negative\n",
              "4  I remember when this was in theaters, reviews ...  negative"
            ],
            "text/html": [
              "\n",
              "  <div id=\"df-1a9fc76a-22c9-4916-b465-72b3cad72fc6\" class=\"colab-df-container\">\n",
              "    <div>\n",
              "<style scoped>\n",
              "    .dataframe tbody tr th:only-of-type {\n",
              "        vertical-align: middle;\n",
              "    }\n",
              "\n",
              "    .dataframe tbody tr th {\n",
              "        vertical-align: top;\n",
              "    }\n",
              "\n",
              "    .dataframe thead th {\n",
              "        text-align: right;\n",
              "    }\n",
              "</style>\n",
              "<table border=\"1\" class=\"dataframe\">\n",
              "  <thead>\n",
              "    <tr style=\"text-align: right;\">\n",
              "      <th></th>\n",
              "      <th>review</th>\n",
              "      <th>sentiment</th>\n",
              "    </tr>\n",
              "  </thead>\n",
              "  <tbody>\n",
              "    <tr>\n",
              "      <th>0</th>\n",
              "      <td>I caught this little gem totally by accident b...</td>\n",
              "      <td>positive</td>\n",
              "    </tr>\n",
              "    <tr>\n",
              "      <th>1</th>\n",
              "      <td>I can't believe that I let myself into this mo...</td>\n",
              "      <td>negative</td>\n",
              "    </tr>\n",
              "    <tr>\n",
              "      <th>2</th>\n",
              "      <td>*spoiler alert!* it just gets to me the nerve ...</td>\n",
              "      <td>negative</td>\n",
              "    </tr>\n",
              "    <tr>\n",
              "      <th>3</th>\n",
              "      <td>If there's one thing I've learnt from watching...</td>\n",
              "      <td>negative</td>\n",
              "    </tr>\n",
              "    <tr>\n",
              "      <th>4</th>\n",
              "      <td>I remember when this was in theaters, reviews ...</td>\n",
              "      <td>negative</td>\n",
              "    </tr>\n",
              "  </tbody>\n",
              "</table>\n",
              "</div>\n",
              "    <div class=\"colab-df-buttons\">\n",
              "\n",
              "  <div class=\"colab-df-container\">\n",
              "    <button class=\"colab-df-convert\" onclick=\"convertToInteractive('df-1a9fc76a-22c9-4916-b465-72b3cad72fc6')\"\n",
              "            title=\"Convert this dataframe to an interactive table.\"\n",
              "            style=\"display:none;\">\n",
              "\n",
              "  <svg xmlns=\"http://www.w3.org/2000/svg\" height=\"24px\" viewBox=\"0 -960 960 960\">\n",
              "    <path d=\"M120-120v-720h720v720H120Zm60-500h600v-160H180v160Zm220 220h160v-160H400v160Zm0 220h160v-160H400v160ZM180-400h160v-160H180v160Zm440 0h160v-160H620v160ZM180-180h160v-160H180v160Zm440 0h160v-160H620v160Z\"/>\n",
              "  </svg>\n",
              "    </button>\n",
              "\n",
              "  <style>\n",
              "    .colab-df-container {\n",
              "      display:flex;\n",
              "      gap: 12px;\n",
              "    }\n",
              "\n",
              "    .colab-df-convert {\n",
              "      background-color: #E8F0FE;\n",
              "      border: none;\n",
              "      border-radius: 50%;\n",
              "      cursor: pointer;\n",
              "      display: none;\n",
              "      fill: #1967D2;\n",
              "      height: 32px;\n",
              "      padding: 0 0 0 0;\n",
              "      width: 32px;\n",
              "    }\n",
              "\n",
              "    .colab-df-convert:hover {\n",
              "      background-color: #E2EBFA;\n",
              "      box-shadow: 0px 1px 2px rgba(60, 64, 67, 0.3), 0px 1px 3px 1px rgba(60, 64, 67, 0.15);\n",
              "      fill: #174EA6;\n",
              "    }\n",
              "\n",
              "    .colab-df-buttons div {\n",
              "      margin-bottom: 4px;\n",
              "    }\n",
              "\n",
              "    [theme=dark] .colab-df-convert {\n",
              "      background-color: #3B4455;\n",
              "      fill: #D2E3FC;\n",
              "    }\n",
              "\n",
              "    [theme=dark] .colab-df-convert:hover {\n",
              "      background-color: #434B5C;\n",
              "      box-shadow: 0px 1px 3px 1px rgba(0, 0, 0, 0.15);\n",
              "      filter: drop-shadow(0px 1px 2px rgba(0, 0, 0, 0.3));\n",
              "      fill: #FFFFFF;\n",
              "    }\n",
              "  </style>\n",
              "\n",
              "    <script>\n",
              "      const buttonEl =\n",
              "        document.querySelector('#df-1a9fc76a-22c9-4916-b465-72b3cad72fc6 button.colab-df-convert');\n",
              "      buttonEl.style.display =\n",
              "        google.colab.kernel.accessAllowed ? 'block' : 'none';\n",
              "\n",
              "      async function convertToInteractive(key) {\n",
              "        const element = document.querySelector('#df-1a9fc76a-22c9-4916-b465-72b3cad72fc6');\n",
              "        const dataTable =\n",
              "          await google.colab.kernel.invokeFunction('convertToInteractive',\n",
              "                                                    [key], {});\n",
              "        if (!dataTable) return;\n",
              "\n",
              "        const docLinkHtml = 'Like what you see? Visit the ' +\n",
              "          '<a target=\"_blank\" href=https://colab.research.google.com/notebooks/data_table.ipynb>data table notebook</a>'\n",
              "          + ' to learn more about interactive tables.';\n",
              "        element.innerHTML = '';\n",
              "        dataTable['output_type'] = 'display_data';\n",
              "        await google.colab.output.renderOutput(dataTable, element);\n",
              "        const docLink = document.createElement('div');\n",
              "        docLink.innerHTML = docLinkHtml;\n",
              "        element.appendChild(docLink);\n",
              "      }\n",
              "    </script>\n",
              "  </div>\n",
              "\n",
              "\n",
              "<div id=\"df-d229fc06-78d3-4840-874d-0dbfe3b003f8\">\n",
              "  <button class=\"colab-df-quickchart\" onclick=\"quickchart('df-d229fc06-78d3-4840-874d-0dbfe3b003f8')\"\n",
              "            title=\"Suggest charts\"\n",
              "            style=\"display:none;\">\n",
              "\n",
              "<svg xmlns=\"http://www.w3.org/2000/svg\" height=\"24px\"viewBox=\"0 0 24 24\"\n",
              "     width=\"24px\">\n",
              "    <g>\n",
              "        <path d=\"M19 3H5c-1.1 0-2 .9-2 2v14c0 1.1.9 2 2 2h14c1.1 0 2-.9 2-2V5c0-1.1-.9-2-2-2zM9 17H7v-7h2v7zm4 0h-2V7h2v10zm4 0h-2v-4h2v4z\"/>\n",
              "    </g>\n",
              "</svg>\n",
              "  </button>\n",
              "\n",
              "<style>\n",
              "  .colab-df-quickchart {\n",
              "      --bg-color: #E8F0FE;\n",
              "      --fill-color: #1967D2;\n",
              "      --hover-bg-color: #E2EBFA;\n",
              "      --hover-fill-color: #174EA6;\n",
              "      --disabled-fill-color: #AAA;\n",
              "      --disabled-bg-color: #DDD;\n",
              "  }\n",
              "\n",
              "  [theme=dark] .colab-df-quickchart {\n",
              "      --bg-color: #3B4455;\n",
              "      --fill-color: #D2E3FC;\n",
              "      --hover-bg-color: #434B5C;\n",
              "      --hover-fill-color: #FFFFFF;\n",
              "      --disabled-bg-color: #3B4455;\n",
              "      --disabled-fill-color: #666;\n",
              "  }\n",
              "\n",
              "  .colab-df-quickchart {\n",
              "    background-color: var(--bg-color);\n",
              "    border: none;\n",
              "    border-radius: 50%;\n",
              "    cursor: pointer;\n",
              "    display: none;\n",
              "    fill: var(--fill-color);\n",
              "    height: 32px;\n",
              "    padding: 0;\n",
              "    width: 32px;\n",
              "  }\n",
              "\n",
              "  .colab-df-quickchart:hover {\n",
              "    background-color: var(--hover-bg-color);\n",
              "    box-shadow: 0 1px 2px rgba(60, 64, 67, 0.3), 0 1px 3px 1px rgba(60, 64, 67, 0.15);\n",
              "    fill: var(--button-hover-fill-color);\n",
              "  }\n",
              "\n",
              "  .colab-df-quickchart-complete:disabled,\n",
              "  .colab-df-quickchart-complete:disabled:hover {\n",
              "    background-color: var(--disabled-bg-color);\n",
              "    fill: var(--disabled-fill-color);\n",
              "    box-shadow: none;\n",
              "  }\n",
              "\n",
              "  .colab-df-spinner {\n",
              "    border: 2px solid var(--fill-color);\n",
              "    border-color: transparent;\n",
              "    border-bottom-color: var(--fill-color);\n",
              "    animation:\n",
              "      spin 1s steps(1) infinite;\n",
              "  }\n",
              "\n",
              "  @keyframes spin {\n",
              "    0% {\n",
              "      border-color: transparent;\n",
              "      border-bottom-color: var(--fill-color);\n",
              "      border-left-color: var(--fill-color);\n",
              "    }\n",
              "    20% {\n",
              "      border-color: transparent;\n",
              "      border-left-color: var(--fill-color);\n",
              "      border-top-color: var(--fill-color);\n",
              "    }\n",
              "    30% {\n",
              "      border-color: transparent;\n",
              "      border-left-color: var(--fill-color);\n",
              "      border-top-color: var(--fill-color);\n",
              "      border-right-color: var(--fill-color);\n",
              "    }\n",
              "    40% {\n",
              "      border-color: transparent;\n",
              "      border-right-color: var(--fill-color);\n",
              "      border-top-color: var(--fill-color);\n",
              "    }\n",
              "    60% {\n",
              "      border-color: transparent;\n",
              "      border-right-color: var(--fill-color);\n",
              "    }\n",
              "    80% {\n",
              "      border-color: transparent;\n",
              "      border-right-color: var(--fill-color);\n",
              "      border-bottom-color: var(--fill-color);\n",
              "    }\n",
              "    90% {\n",
              "      border-color: transparent;\n",
              "      border-bottom-color: var(--fill-color);\n",
              "    }\n",
              "  }\n",
              "</style>\n",
              "\n",
              "  <script>\n",
              "    async function quickchart(key) {\n",
              "      const quickchartButtonEl =\n",
              "        document.querySelector('#' + key + ' button');\n",
              "      quickchartButtonEl.disabled = true;  // To prevent multiple clicks.\n",
              "      quickchartButtonEl.classList.add('colab-df-spinner');\n",
              "      try {\n",
              "        const charts = await google.colab.kernel.invokeFunction(\n",
              "            'suggestCharts', [key], {});\n",
              "      } catch (error) {\n",
              "        console.error('Error during call to suggestCharts:', error);\n",
              "      }\n",
              "      quickchartButtonEl.classList.remove('colab-df-spinner');\n",
              "      quickchartButtonEl.classList.add('colab-df-quickchart-complete');\n",
              "    }\n",
              "    (() => {\n",
              "      let quickchartButtonEl =\n",
              "        document.querySelector('#df-d229fc06-78d3-4840-874d-0dbfe3b003f8 button');\n",
              "      quickchartButtonEl.style.display =\n",
              "        google.colab.kernel.accessAllowed ? 'block' : 'none';\n",
              "    })();\n",
              "  </script>\n",
              "</div>\n",
              "\n",
              "    </div>\n",
              "  </div>\n"
            ],
            "application/vnd.google.colaboratory.intrinsic+json": {
              "type": "dataframe",
              "summary": "{\n  \"name\": \"display(df_test\",\n  \"rows\": 5,\n  \"fields\": [\n    {\n      \"column\": \"review\",\n      \"properties\": {\n        \"dtype\": \"string\",\n        \"num_unique_values\": 5,\n        \"samples\": [\n          \"I can't believe that I let myself into this movie to accomplish a favor my friends ask me early this April 14, 2007. This movie certainly a pain in your ass in theater and sickly boring, I haven't even felt the gory impact of its \\\"daunting scenes\\\" which I deem to be complete failure to attract its audience. The worst even trampled me, cause my friend failed to come on time at the theater because she was busy assisting her boyfriend in looking for an appropriate lodge to stay in for one night. I wasn't really disappointed with that matter, but this movie is a matter indeed for me, poor plot, useless storyline, naively created and I don't know what to say anymore.<br /><br />The title doesn't suggest anyway the creeps and horror it failed to overture us viewers, maybe the beating of the animals could get more the creeps if they show it in theaters the real situational play. Good luck to anyone who attempts to watch it anyway.\",\n          \"I remember when this was in theaters, reviews said it was horrible. Well, I didn't think it was that bad. It was amusing and had a lot of tongue-in-cheek humor concerning families around holiday time.<br /><br />Ben Affleck is a rich guy who needs to find a family for Christmas to please his girlfriend. He goes to visit the house he grew up in and strikes a deal to rent the family there for Christmas. I really liked the lawyer scene where they sign a contract. That was funny.<br /><br />So, he makes silly requests of the family and even writes scripts for them to read. Of course, the family has a hot daughter for the love interest. And he learns that the holidays aren't so bad after all.<br /><br />Also, the whole doo-dah act was funny, especially when they replaced the first one with a black guy, and the girlfriends's parents didn't even say anything about it. And the parts where doo-dah is hitting on his \\\"supposed daughter.\\\" FINAL VERDICT: I thought it's worth checking out if you catch it on cable.\",\n          \"*spoiler alert!* it just gets to me the nerve some people have to remake (and i use the term loosely here..) good movies. in the american version of this dutch thriller, someone decided the original ending wasn't pasteurized enough for american audiences. so what do they do? they create a new one! a stupid, improbable, i-pretend-i'm-dead-but-come-to-life-again-so-the-good-guy-can-kick-my-butt- some-more kind of ending. do yourself a favor and get the original one.\"\n        ],\n        \"semantic_type\": \"\",\n        \"description\": \"\"\n      }\n    },\n    {\n      \"column\": \"sentiment\",\n      \"properties\": {\n        \"dtype\": \"category\",\n        \"num_unique_values\": 2,\n        \"samples\": [\n          \"negative\",\n          \"positive\"\n        ],\n        \"semantic_type\": \"\",\n        \"description\": \"\"\n      }\n    }\n  ]\n}"
            }
          },
          "metadata": {}
        },
        {
          "output_type": "stream",
          "name": "stdout",
          "text": [
            "\n",
            "Test Data Sample:\n"
          ]
        },
        {
          "output_type": "display_data",
          "data": {
            "text/plain": [
              "                                              review sentiment\n",
              "0  Yes, MTV there really is a way to market Daria...  negative\n",
              "1  The story of the bride fair is an amusing and ...  negative\n",
              "2  A team varied between Scully and Mulder, two o...  positive\n",
              "3  This was a popular movie probably because of t...  negative\n",
              "4  This movie made me so angry!! Here I am thinki...  negative"
            ],
            "text/html": [
              "\n",
              "  <div id=\"df-748489ed-cf51-4be6-b017-146c08d522c9\" class=\"colab-df-container\">\n",
              "    <div>\n",
              "<style scoped>\n",
              "    .dataframe tbody tr th:only-of-type {\n",
              "        vertical-align: middle;\n",
              "    }\n",
              "\n",
              "    .dataframe tbody tr th {\n",
              "        vertical-align: top;\n",
              "    }\n",
              "\n",
              "    .dataframe thead th {\n",
              "        text-align: right;\n",
              "    }\n",
              "</style>\n",
              "<table border=\"1\" class=\"dataframe\">\n",
              "  <thead>\n",
              "    <tr style=\"text-align: right;\">\n",
              "      <th></th>\n",
              "      <th>review</th>\n",
              "      <th>sentiment</th>\n",
              "    </tr>\n",
              "  </thead>\n",
              "  <tbody>\n",
              "    <tr>\n",
              "      <th>0</th>\n",
              "      <td>Yes, MTV there really is a way to market Daria...</td>\n",
              "      <td>negative</td>\n",
              "    </tr>\n",
              "    <tr>\n",
              "      <th>1</th>\n",
              "      <td>The story of the bride fair is an amusing and ...</td>\n",
              "      <td>negative</td>\n",
              "    </tr>\n",
              "    <tr>\n",
              "      <th>2</th>\n",
              "      <td>A team varied between Scully and Mulder, two o...</td>\n",
              "      <td>positive</td>\n",
              "    </tr>\n",
              "    <tr>\n",
              "      <th>3</th>\n",
              "      <td>This was a popular movie probably because of t...</td>\n",
              "      <td>negative</td>\n",
              "    </tr>\n",
              "    <tr>\n",
              "      <th>4</th>\n",
              "      <td>This movie made me so angry!! Here I am thinki...</td>\n",
              "      <td>negative</td>\n",
              "    </tr>\n",
              "  </tbody>\n",
              "</table>\n",
              "</div>\n",
              "    <div class=\"colab-df-buttons\">\n",
              "\n",
              "  <div class=\"colab-df-container\">\n",
              "    <button class=\"colab-df-convert\" onclick=\"convertToInteractive('df-748489ed-cf51-4be6-b017-146c08d522c9')\"\n",
              "            title=\"Convert this dataframe to an interactive table.\"\n",
              "            style=\"display:none;\">\n",
              "\n",
              "  <svg xmlns=\"http://www.w3.org/2000/svg\" height=\"24px\" viewBox=\"0 -960 960 960\">\n",
              "    <path d=\"M120-120v-720h720v720H120Zm60-500h600v-160H180v160Zm220 220h160v-160H400v160Zm0 220h160v-160H400v160ZM180-400h160v-160H180v160Zm440 0h160v-160H620v160ZM180-180h160v-160H180v160Zm440 0h160v-160H620v160Z\"/>\n",
              "  </svg>\n",
              "    </button>\n",
              "\n",
              "  <style>\n",
              "    .colab-df-container {\n",
              "      display:flex;\n",
              "      gap: 12px;\n",
              "    }\n",
              "\n",
              "    .colab-df-convert {\n",
              "      background-color: #E8F0FE;\n",
              "      border: none;\n",
              "      border-radius: 50%;\n",
              "      cursor: pointer;\n",
              "      display: none;\n",
              "      fill: #1967D2;\n",
              "      height: 32px;\n",
              "      padding: 0 0 0 0;\n",
              "      width: 32px;\n",
              "    }\n",
              "\n",
              "    .colab-df-convert:hover {\n",
              "      background-color: #E2EBFA;\n",
              "      box-shadow: 0px 1px 2px rgba(60, 64, 67, 0.3), 0px 1px 3px 1px rgba(60, 64, 67, 0.15);\n",
              "      fill: #174EA6;\n",
              "    }\n",
              "\n",
              "    .colab-df-buttons div {\n",
              "      margin-bottom: 4px;\n",
              "    }\n",
              "\n",
              "    [theme=dark] .colab-df-convert {\n",
              "      background-color: #3B4455;\n",
              "      fill: #D2E3FC;\n",
              "    }\n",
              "\n",
              "    [theme=dark] .colab-df-convert:hover {\n",
              "      background-color: #434B5C;\n",
              "      box-shadow: 0px 1px 3px 1px rgba(0, 0, 0, 0.15);\n",
              "      filter: drop-shadow(0px 1px 2px rgba(0, 0, 0, 0.3));\n",
              "      fill: #FFFFFF;\n",
              "    }\n",
              "  </style>\n",
              "\n",
              "    <script>\n",
              "      const buttonEl =\n",
              "        document.querySelector('#df-748489ed-cf51-4be6-b017-146c08d522c9 button.colab-df-convert');\n",
              "      buttonEl.style.display =\n",
              "        google.colab.kernel.accessAllowed ? 'block' : 'none';\n",
              "\n",
              "      async function convertToInteractive(key) {\n",
              "        const element = document.querySelector('#df-748489ed-cf51-4be6-b017-146c08d522c9');\n",
              "        const dataTable =\n",
              "          await google.colab.kernel.invokeFunction('convertToInteractive',\n",
              "                                                    [key], {});\n",
              "        if (!dataTable) return;\n",
              "\n",
              "        const docLinkHtml = 'Like what you see? Visit the ' +\n",
              "          '<a target=\"_blank\" href=https://colab.research.google.com/notebooks/data_table.ipynb>data table notebook</a>'\n",
              "          + ' to learn more about interactive tables.';\n",
              "        element.innerHTML = '';\n",
              "        dataTable['output_type'] = 'display_data';\n",
              "        await google.colab.output.renderOutput(dataTable, element);\n",
              "        const docLink = document.createElement('div');\n",
              "        docLink.innerHTML = docLinkHtml;\n",
              "        element.appendChild(docLink);\n",
              "      }\n",
              "    </script>\n",
              "  </div>\n",
              "\n",
              "\n",
              "<div id=\"df-d9e557af-5877-4edf-88fb-c76812014a62\">\n",
              "  <button class=\"colab-df-quickchart\" onclick=\"quickchart('df-d9e557af-5877-4edf-88fb-c76812014a62')\"\n",
              "            title=\"Suggest charts\"\n",
              "            style=\"display:none;\">\n",
              "\n",
              "<svg xmlns=\"http://www.w3.org/2000/svg\" height=\"24px\"viewBox=\"0 0 24 24\"\n",
              "     width=\"24px\">\n",
              "    <g>\n",
              "        <path d=\"M19 3H5c-1.1 0-2 .9-2 2v14c0 1.1.9 2 2 2h14c1.1 0 2-.9 2-2V5c0-1.1-.9-2-2-2zM9 17H7v-7h2v7zm4 0h-2V7h2v10zm4 0h-2v-4h2v4z\"/>\n",
              "    </g>\n",
              "</svg>\n",
              "  </button>\n",
              "\n",
              "<style>\n",
              "  .colab-df-quickchart {\n",
              "      --bg-color: #E8F0FE;\n",
              "      --fill-color: #1967D2;\n",
              "      --hover-bg-color: #E2EBFA;\n",
              "      --hover-fill-color: #174EA6;\n",
              "      --disabled-fill-color: #AAA;\n",
              "      --disabled-bg-color: #DDD;\n",
              "  }\n",
              "\n",
              "  [theme=dark] .colab-df-quickchart {\n",
              "      --bg-color: #3B4455;\n",
              "      --fill-color: #D2E3FC;\n",
              "      --hover-bg-color: #434B5C;\n",
              "      --hover-fill-color: #FFFFFF;\n",
              "      --disabled-bg-color: #3B4455;\n",
              "      --disabled-fill-color: #666;\n",
              "  }\n",
              "\n",
              "  .colab-df-quickchart {\n",
              "    background-color: var(--bg-color);\n",
              "    border: none;\n",
              "    border-radius: 50%;\n",
              "    cursor: pointer;\n",
              "    display: none;\n",
              "    fill: var(--fill-color);\n",
              "    height: 32px;\n",
              "    padding: 0;\n",
              "    width: 32px;\n",
              "  }\n",
              "\n",
              "  .colab-df-quickchart:hover {\n",
              "    background-color: var(--hover-bg-color);\n",
              "    box-shadow: 0 1px 2px rgba(60, 64, 67, 0.3), 0 1px 3px 1px rgba(60, 64, 67, 0.15);\n",
              "    fill: var(--button-hover-fill-color);\n",
              "  }\n",
              "\n",
              "  .colab-df-quickchart-complete:disabled,\n",
              "  .colab-df-quickchart-complete:disabled:hover {\n",
              "    background-color: var(--disabled-bg-color);\n",
              "    fill: var(--disabled-fill-color);\n",
              "    box-shadow: none;\n",
              "  }\n",
              "\n",
              "  .colab-df-spinner {\n",
              "    border: 2px solid var(--fill-color);\n",
              "    border-color: transparent;\n",
              "    border-bottom-color: var(--fill-color);\n",
              "    animation:\n",
              "      spin 1s steps(1) infinite;\n",
              "  }\n",
              "\n",
              "  @keyframes spin {\n",
              "    0% {\n",
              "      border-color: transparent;\n",
              "      border-bottom-color: var(--fill-color);\n",
              "      border-left-color: var(--fill-color);\n",
              "    }\n",
              "    20% {\n",
              "      border-color: transparent;\n",
              "      border-left-color: var(--fill-color);\n",
              "      border-top-color: var(--fill-color);\n",
              "    }\n",
              "    30% {\n",
              "      border-color: transparent;\n",
              "      border-left-color: var(--fill-color);\n",
              "      border-top-color: var(--fill-color);\n",
              "      border-right-color: var(--fill-color);\n",
              "    }\n",
              "    40% {\n",
              "      border-color: transparent;\n",
              "      border-right-color: var(--fill-color);\n",
              "      border-top-color: var(--fill-color);\n",
              "    }\n",
              "    60% {\n",
              "      border-color: transparent;\n",
              "      border-right-color: var(--fill-color);\n",
              "    }\n",
              "    80% {\n",
              "      border-color: transparent;\n",
              "      border-right-color: var(--fill-color);\n",
              "      border-bottom-color: var(--fill-color);\n",
              "    }\n",
              "    90% {\n",
              "      border-color: transparent;\n",
              "      border-bottom-color: var(--fill-color);\n",
              "    }\n",
              "  }\n",
              "</style>\n",
              "\n",
              "  <script>\n",
              "    async function quickchart(key) {\n",
              "      const quickchartButtonEl =\n",
              "        document.querySelector('#' + key + ' button');\n",
              "      quickchartButtonEl.disabled = true;  // To prevent multiple clicks.\n",
              "      quickchartButtonEl.classList.add('colab-df-spinner');\n",
              "      try {\n",
              "        const charts = await google.colab.kernel.invokeFunction(\n",
              "            'suggestCharts', [key], {});\n",
              "      } catch (error) {\n",
              "        console.error('Error during call to suggestCharts:', error);\n",
              "      }\n",
              "      quickchartButtonEl.classList.remove('colab-df-spinner');\n",
              "      quickchartButtonEl.classList.add('colab-df-quickchart-complete');\n",
              "    }\n",
              "    (() => {\n",
              "      let quickchartButtonEl =\n",
              "        document.querySelector('#df-d9e557af-5877-4edf-88fb-c76812014a62 button');\n",
              "      quickchartButtonEl.style.display =\n",
              "        google.colab.kernel.accessAllowed ? 'block' : 'none';\n",
              "    })();\n",
              "  </script>\n",
              "</div>\n",
              "\n",
              "    </div>\n",
              "  </div>\n"
            ],
            "application/vnd.google.colaboratory.intrinsic+json": {
              "type": "dataframe",
              "summary": "{\n  \"name\": \"display(df_test\",\n  \"rows\": 5,\n  \"fields\": [\n    {\n      \"column\": \"review\",\n      \"properties\": {\n        \"dtype\": \"string\",\n        \"num_unique_values\": 5,\n        \"samples\": [\n          \"The story of the bride fair is an amusing and engaging one, and it is to the filmmaker's credit that he sets out to portray rural Minnesotans with the same respect ordinarily reserved for Coast-dwellers. It is weird, though, to find an independent movie, the brainchild of a single person, that is as unambitious and clich\\u00e9-ridden as a committee-brewed Hollywood potboiler.<br /><br />The portrait of rural people is intended to be affectionate, I think, but these characters don't ring true to me--I have had quite a few meals in small-town diners, but never overheard a debate on the merits of different nineteenth-century English novelists. One might suggest that writer/director Semans has no more experience with rural culture than the Coen brothers, and considerably less satiric verve.\",\n          \"This movie made me so angry!! Here I am thinking that here's a new horror movie, one w/a sense of intelligence & then the movie starts. The scenery, the delivery of lines, the costumes, the fake gore, must I go on? There are porno movies out with better dialog than this. I understand the concept behind indie movies, but my goodness, this wasn't just indie this was a high school book report shot w/a camcorder & the cast are all friends & relatives. This is 1 movie that was doomed from its beginning. Maybe if it was 1982 instead of the new millennium this movie could fly. But it seems to me that someone hung a rock around this albatross's neck & it was sinking at a constant rate of speed.\",\n          \"A team varied between Scully and Mulder, two other scientists, a pilot, and the guy who plays Bana on Seinfeld, go up to an Arctic research post where all members have died off by either killing each other or killing themselves. They discover there's a worm- a virus- that is parasitic to the point of madness and death. The problem is, after a certain dog lashes out, anyone could be infected, but who? This is not just my favorite episode of season 1, but also one of my favorites from the show. The Arctic environment encloses the characters and, of course like Carpenter's the Thing, it's a lot of fun watching these even-tempered characters suddenly start to flip out in dramatic scenes. And the visual effects of the worm and its effects under the skin are cheesy, I didn't mind them at all. The drama between the characters ends up working more than it would usually because of the tension and because all of the actors (including the Bana guy) understand what's going on in the story. And, as usual, I loved the ambiguity of the ending. Highly recommended.\"\n        ],\n        \"semantic_type\": \"\",\n        \"description\": \"\"\n      }\n    },\n    {\n      \"column\": \"sentiment\",\n      \"properties\": {\n        \"dtype\": \"category\",\n        \"num_unique_values\": 2,\n        \"samples\": [\n          \"positive\",\n          \"negative\"\n        ],\n        \"semantic_type\": \"\",\n        \"description\": \"\"\n      }\n    }\n  ]\n}"
            }
          },
          "metadata": {}
        }
      ]
    },
    {
      "cell_type": "markdown",
      "source": [
        "For train dataset:\n",
        "- The total number of rows is 40000\n",
        "- Number of columns is 2\n",
        "\n",
        "For test dataset:\n",
        "- The total number of rows is 10000\n",
        "- Number of columns is 2"
      ],
      "metadata": {
        "id": "4hz1wxazBpVe"
      }
    },
    {
      "cell_type": "markdown",
      "source": [
        "Getting to know the columns and their corresponding data types, along with finding whether they contain null values or not."
      ],
      "metadata": {
        "id": "dJHgd98nBwig"
      }
    },
    {
      "cell_type": "code",
      "source": [
        "df_train.info()"
      ],
      "metadata": {
        "colab": {
          "base_uri": "https://localhost:8080/"
        },
        "id": "jXGcFikDBxqZ",
        "outputId": "845217be-04b5-4dcb-9d7d-8c68dda86965"
      },
      "execution_count": null,
      "outputs": [
        {
          "output_type": "stream",
          "name": "stdout",
          "text": [
            "<class 'pandas.core.frame.DataFrame'>\n",
            "RangeIndex: 40000 entries, 0 to 39999\n",
            "Data columns (total 2 columns):\n",
            " #   Column     Non-Null Count  Dtype \n",
            "---  ------     --------------  ----- \n",
            " 0   review     40000 non-null  object\n",
            " 1   sentiment  40000 non-null  object\n",
            "dtypes: object(2)\n",
            "memory usage: 625.1+ KB\n"
          ]
        }
      ]
    },
    {
      "cell_type": "markdown",
      "source": [
        "- There is only object values in data\n",
        "- Data does not contain null values"
      ],
      "metadata": {
        "id": "kEWQ56kHCXlg"
      }
    },
    {
      "cell_type": "markdown",
      "source": [
        "Check for Duplicates"
      ],
      "metadata": {
        "id": "8ig94fK5fTy-"
      }
    },
    {
      "cell_type": "code",
      "source": [
        "duplicates = df_train.duplicated().sum()\n",
        "print(f\"\\nNumber of duplicate rows: {duplicates}\")"
      ],
      "metadata": {
        "colab": {
          "base_uri": "https://localhost:8080/"
        },
        "id": "g96Xv_rCfOzP",
        "outputId": "120166f6-381a-4523-aebe-fc6ddda00737"
      },
      "execution_count": null,
      "outputs": [
        {
          "output_type": "stream",
          "name": "stdout",
          "text": [
            "\n",
            "Number of duplicate rows: 272\n"
          ]
        }
      ]
    },
    {
      "cell_type": "markdown",
      "source": [
        "The training dataset has **272 duplicate reviews** out of 40,000, with an equal sentiment distribution (20,000 positive, 20,000 negative). The most frequent review appears 5 times."
      ],
      "metadata": {
        "id": "NVDLnCFZHa7Q"
      }
    },
    {
      "cell_type": "markdown",
      "source": [
        "## Univariate analysis"
      ],
      "metadata": {
        "id": "OjRmnp9lChN3"
      }
    },
    {
      "cell_type": "markdown",
      "source": [
        "Separate features description"
      ],
      "metadata": {
        "id": "PPwMblAtCwqk"
      }
    },
    {
      "cell_type": "code",
      "source": [
        "print(\"\\nSentiment value counts:\")\n",
        "print(df_train['sentiment'].value_counts())\n",
        "\n",
        "plt.figure(figsize=(6,4))\n",
        "sns.countplot(x='sentiment', data=df_train, palette='viridis')\n",
        "plt.title(\"Sentiment Distribution\")\n",
        "plt.xlabel(\"Sentiment\")\n",
        "plt.ylabel(\"Count\")\n",
        "plt.show()\n"
      ],
      "metadata": {
        "colab": {
          "base_uri": "https://localhost:8080/",
          "height": 517
        },
        "id": "K8QDj0hQfY6Z",
        "outputId": "cbe6531f-9c58-4a9f-8aa7-cef0bb640366"
      },
      "execution_count": null,
      "outputs": [
        {
          "output_type": "stream",
          "name": "stdout",
          "text": [
            "\n",
            "Sentiment value counts:\n",
            "sentiment\n",
            "positive    20000\n",
            "negative    20000\n",
            "Name: count, dtype: int64\n"
          ]
        },
        {
          "output_type": "display_data",
          "data": {
            "text/plain": [
              "<Figure size 600x400 with 1 Axes>"
            ],
            "image/png": "[encoded data removed]"
          },
          "metadata": {}
        }
      ]
    },
    {
      "cell_type": "markdown",
      "source": [
        "- Equal number of positive and negative reviews\n",
        "- Data is very balanced"
      ],
      "metadata": {
        "id": "ubE2cGmlp5yp"
      }
    },
    {
      "cell_type": "markdown",
      "source": [
        "**Text Length Analysis**"
      ],
      "metadata": {
        "id": "lmDU-0Azfjvl"
      }
    },
    {
      "cell_type": "markdown",
      "source": [
        "Understanding the length (in terms of number of words) of the reviews can provide insights into the data distribution and help with feature engineering later."
      ],
      "metadata": {
        "id": "Z3wnM3DBfmEn"
      }
    },
    {
      "cell_type": "code",
      "source": [
        "df_train['review_length'] = df_train['review'].apply(lambda x: len(x.split()))\n",
        "\n",
        "print(\"\\nReview length descriptive statistics:\")\n",
        "print(df_train['review_length'].describe())\n",
        "\n",
        "plt.figure(figsize=(8,4))\n",
        "sns.histplot(df_train['review_length'], kde=True, color='blue')\n",
        "plt.title(\"Distribution of Review Length (word count)\")\n",
        "plt.xlabel(\"Word count\")\n",
        "plt.ylabel(\"Frequency\")\n",
        "plt.show()\n"
      ],
      "metadata": {
        "colab": {
          "base_uri": "https://localhost:8080/",
          "height": 606
        },
        "id": "lpP_tUo0fnkB",
        "outputId": "0f7916b7-c3da-490f-ee57-8c4c562959ae"
      },
      "execution_count": null,
      "outputs": [
        {
          "output_type": "stream",
          "name": "stdout",
          "text": [
            "\n",
            "Review length descriptive statistics:\n",
            "count    40000.000000\n",
            "mean       231.362750\n",
            "std        171.083908\n",
            "min          4.000000\n",
            "25%        126.000000\n",
            "50%        173.000000\n",
            "75%        282.000000\n",
            "max       2470.000000\n",
            "Name: review_length, dtype: float64\n"
          ]
        },
        {
          "output_type": "display_data",
          "data": {
            "text/plain": [
              "<Figure size 800x400 with 1 Axes>"
            ],
            "image/png": "[encoded data removed]"
          },
          "metadata": {}
        }
      ]
    },
    {
      "cell_type": "markdown",
      "source": [
        "- On average there are 231 words in each review\n",
        "- There are outliers that contain 2470 words"
      ],
      "metadata": {
        "id": "xS3VXvTZqHbz"
      }
    },
    {
      "cell_type": "code",
      "source": [
        "df_test['review_length'] = df_test['review'].apply(lambda x: len(x.split()))\n",
        "\n",
        "print(\"\\nReview length descriptive statistics:\")\n",
        "print(df_test['review_length'].describe())\n",
        "\n",
        "plt.figure(figsize=(8,4))\n",
        "sns.histplot(df_test['review_length'], kde=True, color='blue')\n",
        "plt.title(\"Distribution of Review Length (word count)\")\n",
        "plt.xlabel(\"Word count\")\n",
        "plt.ylabel(\"Frequency\")\n",
        "plt.show()\n"
      ],
      "metadata": {
        "colab": {
          "base_uri": "https://localhost:8080/",
          "height": 606
        },
        "id": "trVsmIFGIaJr",
        "outputId": "aa8b85cd-2fea-4635-b5c4-7a7bf77e062b"
      },
      "execution_count": null,
      "outputs": [
        {
          "output_type": "stream",
          "name": "stdout",
          "text": [
            "\n",
            "Review length descriptive statistics:\n",
            "count    10000.000000\n",
            "mean       230.333700\n",
            "std        172.386568\n",
            "min          6.000000\n",
            "25%        126.000000\n",
            "50%        172.000000\n",
            "75%        277.000000\n",
            "max       2108.000000\n",
            "Name: review_length, dtype: float64\n"
          ]
        },
        {
          "output_type": "display_data",
          "data": {
            "text/plain": [
              "<Figure size 800x400 with 1 Axes>"
            ],
            "image/png": "[encoded data removed]"
          },
          "metadata": {}
        }
      ]
    },
    {
      "cell_type": "markdown",
      "source": [
        "The distribution of review lengths is **right-skewed**, meaning most reviews are relatively short, with a few very long ones. Both **positive and negative reviews** follow a similar pattern, indicating that review length does not strongly differentiate sentiment. However, some **outliers** with exceptionally long reviews exist, which might require special handling in preprocessing (e.g., truncation or padding)."
      ],
      "metadata": {
        "id": "Z3B1tEv4IfRn"
      }
    },
    {
      "cell_type": "markdown",
      "source": [
        "Since the test dataset (df_test) **is intended for inference**, it should remain **unseen during analysis and model training** to ensure an unbiased evaluation. Therefore, all further exploratory data analysis, preprocessing, and model development will be conducted using **only the training dataset** (df_train). This approach aligns with best practices in machine learning, where the test set serves as a final validation step to assess the model’s generalization performance on new, unseen data."
      ],
      "metadata": {
        "id": "WYlSRw4EIkK7"
      }
    },
    {
      "cell_type": "markdown",
      "source": [
        "**Character length for each review**"
      ],
      "metadata": {
        "id": "-cBcowSUjWVy"
      }
    },
    {
      "cell_type": "code",
      "source": [
        "df_train['char_length'] = df_train['review'].apply(len)\n",
        "\n",
        "print(\"Character Length Statistics:\")\n",
        "print(df_train['char_length'].describe())\n",
        "\n",
        "plt.figure(figsize=(10, 6))\n",
        "sns.histplot(df_train['char_length'], bins=50, kde=True, color='skyblue')\n",
        "plt.title(\"Distribution of Review Character Lengths\")\n",
        "plt.xlabel(\"Character Length\")\n",
        "plt.ylabel(\"Frequency\")\n",
        "plt.show()\n"
      ],
      "metadata": {
        "colab": {
          "base_uri": "https://localhost:8080/",
          "height": 743
        },
        "id": "VyTQKDpfi-K0",
        "outputId": "8df24439-eb0b-4e18-9ff0-3d8fe05a98fa"
      },
      "execution_count": null,
      "outputs": [
        {
          "output_type": "stream",
          "name": "stdout",
          "text": [
            "Character Length Statistics:\n",
            "count    40000.000000\n",
            "mean      1310.549450\n",
            "std        987.955229\n",
            "min         41.000000\n",
            "25%        699.000000\n",
            "50%        971.000000\n",
            "75%       1595.000000\n",
            "max      13704.000000\n",
            "Name: char_length, dtype: float64\n"
          ]
        },
        {
          "output_type": "display_data",
          "data": {
            "text/plain": [
              "<Figure size 1000x600 with 1 Axes>"
            ],
            "image/png": "[encoded data removed]"
          },
          "metadata": {}
        }
      ]
    },
    {
      "cell_type": "markdown",
      "source": [
        "On average, each review is about **1,311** characters long, with a fairly high standard deviation of approximately 989, indicating significant variability in review lengths. Notably, the median length is 972 characters, which is lower than the mean—suggesting that while most reviews are relatively moderate in length, a few extremely long reviews (up to **13,704** characters) are pulling the average upward."
      ],
      "metadata": {
        "id": "64HxsBLWjPhw"
      }
    },
    {
      "cell_type": "markdown",
      "source": [
        "**Positive and Negative reviews most common word frequencies:**"
      ],
      "metadata": {
        "id": "4n45opTQGXzV"
      }
    },
    {
      "cell_type": "markdown",
      "source": [
        "Remove duplicates of reviews\n"
      ],
      "metadata": {
        "id": "zX2l34ckJn5T"
      }
    },
    {
      "cell_type": "code",
      "source": [
        "df_train.drop_duplicates(subset='review', inplace=True)"
      ],
      "metadata": {
        "id": "tAJIfbZnJpT9"
      },
      "execution_count": null,
      "outputs": []
    },
    {
      "cell_type": "code",
      "source": [
        "# Load Stopwords\n",
        "stop_words = set(stopwords.words('english'))\n",
        "stop_words.update(['film', 'movie', 'br'])\n",
        "\n",
        "def preprocess_text(text):\n",
        "    text = text.lower().translate(str.maketrans('', '', string.punctuation))\n",
        "    words = [word for word in text.split() if word not in stop_words]\n",
        "    return words\n",
        "\n",
        "positive_words = []\n",
        "negative_words = []\n",
        "\n",
        "print(\"Unique sentiment labels:\", df_train['sentiment'].unique())\n",
        "\n",
        "for review in df_train[df_train['sentiment'] == 'positive']['review']:\n",
        "    positive_words.extend(preprocess_text(review))\n",
        "\n",
        "for review in df_train[df_train['sentiment'] == 'negative']['review']:\n",
        "    negative_words.extend(preprocess_text(review))\n",
        "\n",
        "# Get top 10 most common words for each sentiment\n",
        "positive_common = Counter(positive_words).most_common(10)\n",
        "negative_common = Counter(negative_words).most_common(10)\n",
        "\n",
        "positive_data = pd.DataFrame(positive_common, columns=['Word', 'Count'])\n",
        "negative_data = pd.DataFrame(negative_common, columns=['Word', 'Count'])\n",
        "\n",
        "print(\"Positive Reviews Word Frequencies:\")\n",
        "print(positive_data)\n",
        "\n",
        "print(\"\\nNegative Reviews Word Frequencies:\")\n",
        "print(negative_data)\n"
      ],
      "metadata": {
        "colab": {
          "base_uri": "https://localhost:8080/"
        },
        "id": "uk_jt4Oqf_u6",
        "outputId": "2dc440c2-bb43-4b0c-a1d1-3c3905a63baa"
      },
      "execution_count": null,
      "outputs": [
        {
          "output_type": "stream",
          "name": "stdout",
          "text": [
            "Unique sentiment labels: ['positive' 'negative']\n",
            "Positive Reviews Word Frequencies:\n",
            "     Word  Count\n",
            "0     one  20842\n",
            "1    like  13500\n",
            "2    good  11479\n",
            "3   great  10066\n",
            "4   story   9837\n",
            "5     see   9482\n",
            "6    time   9376\n",
            "7    well   8814\n",
            "8    also   8610\n",
            "9  really   8543\n",
            "\n",
            "Negative Reviews Word Frequencies:\n",
            "     Word  Count\n",
            "0     one  19802\n",
            "1    like  17337\n",
            "2    even  11956\n",
            "3     bad  11289\n",
            "4    good  11274\n",
            "5   would  10884\n",
            "6  really   9781\n",
            "7    time   9095\n",
            "8     see   8437\n",
            "9    dont   8111\n"
          ]
        }
      ]
    },
    {
      "cell_type": "markdown",
      "source": [
        "The most common words in **negative** sentiment reviews include **“one,” “like,” “even,”** and **“would,”** which are often used in comparisons or criticisms. The presence of **“bad”** and **“dont”** indicates strong negative opinions. Interestingly, **“good”** also appears frequently, likely in contrastive phrases such as **“not good”** or **“could have been good.”**"
      ],
      "metadata": {
        "id": "vtN4dSYcJzIk"
      }
    },
    {
      "cell_type": "markdown",
      "source": [
        "#**Conclusion for Exploratory Data Analysis (EDA)**  \n",
        "\n",
        "1. **Dataset Overview:**  \n",
        "   - The dataset consists of **40,000** training and **10,000** test movie reviews, evenly split between positive and negative sentiments.  \n",
        "   - There are **no missing values**, ensuring data completeness.  \n",
        "\n",
        "2. **Duplicate Reviews:**  \n",
        "   - The training set has **272 duplicates**. These were removed to ensure model training is not biased.  \n",
        "\n",
        "3. **Sentiment Distribution:**  \n",
        "   - The dataset is **balanced**, making **accuracy** a suitable evaluation metric for model performance.  \n",
        "\n",
        "4. **Review Length Analysis:**  \n",
        "   - Reviews are **right-skewed**, meaning most reviews are short, but a few outliers are very long.  \n",
        "   - The length distribution is **similar across sentiments**, indicating that review length alone is not a strong predictor of sentiment.  \n",
        "\n",
        "5. **Most Common Words:**  \n",
        "   - **Positive reviews** frequently contain words like **“good,” “great,” “story,”** and **“well,”** indicating appreciation for storytelling and positive experiences.  \n",
        "   - **Negative reviews** include words like **“bad,” “dont,” “even,”** and **“would,”** often reflecting criticism or disappointment.  \n",
        "   - **Both sentiment classes contain common neutral words like “one” and “like,”** suggesting that context matters in interpretation."
      ],
      "metadata": {
        "id": "hnAorPNnJ2JP"
      }
    },
    {
      "cell_type": "markdown",
      "source": [
        "# Text preprocessing"
      ],
      "metadata": {
        "id": "0qpByCBzj8x2"
      }
    },
    {
      "cell_type": "markdown",
      "source": [
        "In this cell, we define functions for text preprocessing. These include:\n",
        "- Removing HTML tags: (e.g., <br> tags)\n",
        "- Lowercasing and punctuation removal\n",
        "- Tokenization\n",
        "- Stop-word filtering"
      ],
      "metadata": {
        "id": "amHyznlpkNX4"
      }
    },
    {
      "cell_type": "code",
      "source": [
        "# Define a global stopwords set (including custom words)\n",
        "STOP_WORDS = set(stopwords.words('english'))\n",
        "STOP_WORDS.update(['film', 'movie', 'br'])\n",
        "\n",
        "def remove_html(text):\n",
        "\n",
        "    return re.sub(r'<br\\s*/?>', ' ', text)\n",
        "\n",
        "def tokenize(text):\n",
        "\n",
        "    text = text.lower().translate(str.maketrans('', '', string.punctuation))\n",
        "    return text.split()\n",
        "\n",
        "def remove_stopwords(tokens):\n",
        "\n",
        "    return [word for word in tokens if word not in STOP_WORDS]\n",
        "\n",
        "def preprocess_text(text):\n",
        "    text_no_html = remove_html(text)\n",
        "    tokens = tokenize(text_no_html)\n",
        "    return remove_stopwords(tokens)\n",
        "\n",
        "# Test the preprocessing on a sample review\n",
        "sample_review = df_train['review'].iloc[0]\n",
        "print(\"Original review snippet:\")\n",
        "print(sample_review[:200])\n",
        "print(\"\\nProcessed tokens:\")\n",
        "print(preprocess_text(sample_review))\n"
      ],
      "metadata": {
        "colab": {
          "base_uri": "https://localhost:8080/"
        },
        "id": "HivH9ggBkZVE",
        "outputId": "d606dd8d-b6c6-4e67-c266-0fb9a2ce0088"
      },
      "execution_count": null,
      "outputs": [
        {
          "output_type": "stream",
          "name": "stdout",
          "text": [
            "Original review snippet:\n",
            "I caught this little gem totally by accident back in 1980 or '81. I was at a revival theatre to see two old silly sci-fi movies. The theatre was packed full and (with no warning) they showed a bunch o\n",
            "\n",
            "Processed tokens:\n",
            "['caught', 'little', 'gem', 'totally', 'accident', 'back', '1980', '81', 'revival', 'theatre', 'see', 'two', 'old', 'silly', 'scifi', 'movies', 'theatre', 'packed', 'full', 'warning', 'showed', 'bunch', 'scifi', 'short', 'spoofs', 'get', 'us', 'mood', 'somewhat', 'amusing', 'came', 'within', 'seconds', 'audience', 'hysterics', 'biggest', 'laugh', 'came', 'showed', 'princess', 'laia', 'huge', 'cinnamon', 'buns', 'instead', 'hair', 'head', 'looks', 'camera', 'gives', 'grim', 'smile', 'nods', 'made', 'even', 'funnier', 'gotta', 'see', 'chewabacca', 'played', 'looks', 'like', 'muppet', 'extremely', 'silly', 'stupidbut', 'couldnt', 'stop', 'laughing', 'dialogue', 'drowned', 'laughter', 'also', 'know', 'star', 'wars', 'pretty', 'well', 'even', 'funnierthey', 'deliberately', 'poke', 'fun', 'dialogue', 'really', 'works', 'audience', 'definite', '10']\n"
          ]
        }
      ]
    },
    {
      "cell_type": "markdown",
      "source": [
        "**Compare Stemming vs. Lemmatization**"
      ],
      "metadata": {
        "id": "DtCoehjWknEw"
      }
    },
    {
      "cell_type": "code",
      "source": [
        "# Initialize stemmer and lemmatizer objects\n",
        "stemmer = PorterStemmer()\n",
        "lemmatizer = WordNetLemmatizer()\n",
        "\n",
        "def apply_stemming(tokens):\n",
        "\n",
        "    return [stemmer.stem(token) for token in tokens]\n",
        "\n",
        "def apply_lemmatization(tokens):\n",
        "\n",
        "    return [lemmatizer.lemmatize(token) for token in tokens]\n",
        "\n",
        "# Process a sample review for comparison\n",
        "tokens = preprocess_text(sample_review)\n",
        "stemmed_tokens = apply_stemming(tokens)\n",
        "lemmatized_tokens = apply_lemmatization(tokens)\n",
        "\n",
        "print(\"Original Tokens (first 20):\")\n",
        "print(tokens[:20])\n",
        "print(\"\\nStemmed Tokens (first 20):\")\n",
        "print(stemmed_tokens[:20])\n",
        "print(\"\\nLemmatized Tokens (first 20):\")\n",
        "print(lemmatized_tokens[:20])\n"
      ],
      "metadata": {
        "colab": {
          "base_uri": "https://localhost:8080/"
        },
        "id": "GRxGoSRgkohB",
        "outputId": "507eed00-93bf-493a-fb5a-242b639e4475"
      },
      "execution_count": null,
      "outputs": [
        {
          "output_type": "stream",
          "name": "stdout",
          "text": [
            "Original Tokens (first 20):\n",
            "['caught', 'little', 'gem', 'totally', 'accident', 'back', '1980', '81', 'revival', 'theatre', 'see', 'two', 'old', 'silly', 'scifi', 'movies', 'theatre', 'packed', 'full', 'warning']\n",
            "\n",
            "Stemmed Tokens (first 20):\n",
            "['caught', 'littl', 'gem', 'total', 'accid', 'back', '1980', '81', 'reviv', 'theatr', 'see', 'two', 'old', 'silli', 'scifi', 'movi', 'theatr', 'pack', 'full', 'warn']\n",
            "\n",
            "Lemmatized Tokens (first 20):\n",
            "['caught', 'little', 'gem', 'totally', 'accident', 'back', '1980', '81', 'revival', 'theatre', 'see', 'two', 'old', 'silly', 'scifi', 'movie', 'theatre', 'packed', 'full', 'warning']\n"
          ]
        }
      ]
    },
    {
      "cell_type": "markdown",
      "source": [
        "Conclusion in markdown:\n",
        "- **Stemming** reduces words to their root form but can be crude (e.g., \"running\" -> \"run\").\n",
        "- **Lemmatization** uses vocabulary and morphological analysis to reduce words, resulting in more meaningful tokens.\n"
      ],
      "metadata": {
        "id": "vInMpBk8lMPY"
      }
    },
    {
      "cell_type": "markdown",
      "source": [
        "**Text Vectorization Comparison**"
      ],
      "metadata": {
        "id": "MJQWcE6clTtR"
      }
    },
    {
      "cell_type": "markdown",
      "source": [
        "Here we convert the list of tokens back to a single string. This preprocessed string is then stored in a new DataFrame column."
      ],
      "metadata": {
        "id": "7uGOTechRCCW"
      }
    },
    {
      "cell_type": "code",
      "source": [
        "def preprocess_text_to_string(text):\n",
        "\n",
        "    tokens = preprocess_text(text)\n",
        "    return \" \".join(tokens)\n",
        "\n",
        "# Create a new column for preprocessed text\n",
        "df_train['review_preprocessed'] = df_train['review'].apply(preprocess_text_to_string)\n",
        "print(\"Sample preprocessed review:\")\n",
        "print(df_train['review_preprocessed'].iloc[0])\n"
      ],
      "metadata": {
        "colab": {
          "base_uri": "https://localhost:8080/"
        },
        "id": "WrclYnWFRBqf",
        "outputId": "937bd24f-3475-4a35-c237-e931ffa2036c"
      },
      "execution_count": null,
      "outputs": [
        {
          "output_type": "stream",
          "name": "stdout",
          "text": [
            "Sample preprocessed review:\n",
            "caught little gem totally accident back 1980 81 revival theatre see two old silly scifi movies theatre packed full warning showed bunch scifi short spoofs get us mood somewhat amusing came within seconds audience hysterics biggest laugh came showed princess laia huge cinnamon buns instead hair head looks camera gives grim smile nods made even funnier gotta see chewabacca played looks like muppet extremely silly stupidbut couldnt stop laughing dialogue drowned laughter also know star wars pretty well even funnierthey deliberately poke fun dialogue really works audience definite 10\n"
          ]
        }
      ]
    },
    {
      "cell_type": "markdown",
      "source": [
        "This cell shows the original vectorization methods and includes alternative approaches such as HashingVectorizer and n-gram based vectorizers."
      ],
      "metadata": {
        "id": "97fq52etRKfQ"
      }
    },
    {
      "cell_type": "code",
      "source": [
        "# CountVectorizer & TF-IDF Vectorizer using preprocessed text\n",
        "count_vectorizer = CountVectorizer(max_features=5000)\n",
        "tfidf_vectorizer = TfidfVectorizer(max_features=5000)\n",
        "\n",
        "X_count = count_vectorizer.fit_transform(df_train['review_preprocessed'])\n",
        "X_tfidf = tfidf_vectorizer.fit_transform(df_train['review_preprocessed'])\n",
        "\n",
        "print(\"Count Vectorizer shape:\", X_count.shape)\n",
        "print(\"TF-IDF Vectorizer shape:\", X_tfidf.shape)\n",
        "print(\"\\nSample features (CountVectorizer):\", count_vectorizer.get_feature_names_out()[:10])\n",
        "print(\"Sample features (TF-IDF Vectorizer):\", tfidf_vectorizer.get_feature_names_out()[:10])\n",
        "\n",
        "# Alternative Vectorizers\n",
        "# 1. HashingVectorizer (fast and memory-efficient)\n",
        "hash_vectorizer = HashingVectorizer(n_features=5000, alternate_sign=False)\n",
        "X_hash = hash_vectorizer.fit_transform(df_train['review_preprocessed'])\n",
        "print(\"\\nHashingVectorizer shape:\", X_hash.shape)\n",
        "\n",
        "# 2. CountVectorizer with n-grams (unigrams and bigrams)\n",
        "count_vectorizer_ngram = CountVectorizer(max_features=5000, ngram_range=(1, 2))\n",
        "X_count_ngram = count_vectorizer_ngram.fit_transform(df_train['review_preprocessed'])\n",
        "print(\"CountVectorizer with n-grams shape:\", X_count_ngram.shape)\n",
        "print(\"Sample features (n-grams):\", count_vectorizer_ngram.get_feature_names_out()[:10])\n",
        "\n",
        "# 3. TF-IDF Vectorizer with n-grams (unigrams and bigrams)\n",
        "tfidf_vectorizer_ngram = TfidfVectorizer(max_features=5000, ngram_range=(1, 2))\n",
        "X_tfidf_ngram = tfidf_vectorizer_ngram.fit_transform(df_train['review_preprocessed'])\n",
        "print(\"TF-IDF Vectorizer with n-grams shape:\", X_tfidf_ngram.shape)\n",
        "print(\"Sample features (TF-IDF n-grams):\", tfidf_vectorizer_ngram.get_feature_names_out()[:10])\n"
      ],
      "metadata": {
        "colab": {
          "base_uri": "https://localhost:8080/"
        },
        "id": "i0Qj152nlVyH",
        "outputId": "acb7b29f-724b-4d42-81c6-b18c9223ee0a"
      },
      "execution_count": null,
      "outputs": [
        {
          "output_type": "stream",
          "name": "stdout",
          "text": [
            "Count Vectorizer shape: (39728, 5000)\n",
            "TF-IDF Vectorizer shape: (39728, 5000)\n",
            "\n",
            "Sample features (CountVectorizer): ['10' '100' '1010' '11' '110' '12' '13' '13th' '14' '15']\n",
            "Sample features (TF-IDF Vectorizer): ['10' '100' '1010' '11' '110' '12' '13' '13th' '14' '15']\n",
            "\n",
            "HashingVectorizer shape: (39728, 5000)\n",
            "CountVectorizer with n-grams shape: (39728, 5000)\n",
            "Sample features (n-grams): ['10' '10 10' '10 minutes' '10 years' '100' '1010' '11' '110' '12' '13']\n",
            "TF-IDF Vectorizer with n-grams shape: (39728, 5000)\n",
            "Sample features (TF-IDF n-grams): ['10' '10 10' '10 minutes' '10 years' '100' '1010' '11' '110' '12' '13']\n"
          ]
        }
      ]
    },
    {
      "cell_type": "markdown",
      "source": [
        "- **CountVectorizer:** Converts text into a matrix of token counts.\n",
        "- **TF-IDF Vectorizer:** Converts text into a matrix reflecting term importance by reducing the weight of common terms.\n"
      ],
      "metadata": {
        "id": "vUUfb0JB4gqE"
      }
    },
    {
      "cell_type": "markdown",
      "source": [
        "**Summary**\n",
        "\n",
        "- **Preprocessing Enhancements:**\n",
        "  - HTML removal, tokenization, and stopword filtering are implemented in a modular way.\n",
        "  - Comparison between stemming and lemmatization is provided.\n",
        "\n",
        "- **Vectorization:**\n",
        "  - Both standard (Count, TF-IDF) and alternative vectorization methods (Hashing, n-grams) are demonstrated.\n",
        "  - Sample features and matrix shapes are printed for quick verification.\n",
        "\n"
      ],
      "metadata": {
        "id": "WHgt0NIgRV9L"
      }
    },
    {
      "cell_type": "markdown",
      "source": [
        "# Modeling"
      ],
      "metadata": {
        "id": "Y2Jpun35lbvR"
      }
    },
    {
      "cell_type": "markdown",
      "source": [
        "## Helper functions"
      ],
      "metadata": {
        "id": "GvGigTa1LI8A"
      }
    },
    {
      "cell_type": "markdown",
      "source": [
        "Helper function for **lemmatization**. Converts Treebank POS tags to WordNet POS tags, ensuring that lemmatization considers the correct part-of-speech for more accurate word normalization.\n"
      ],
      "metadata": {
        "id": "BwenVoTJLKKR"
      }
    },
    {
      "cell_type": "code",
      "source": [
        "def get_wordnet_pos(treebank_tag):\n",
        "\n",
        "    if treebank_tag.startswith('J'):\n",
        "        return wordnet.ADJ\n",
        "    elif treebank_tag.startswith('V'):\n",
        "        return wordnet.VERB\n",
        "    elif treebank_tag.startswith('N'):\n",
        "        return wordnet.NOUN\n",
        "    elif treebank_tag.startswith('R'):\n",
        "        return wordnet.ADV\n",
        "    else:\n",
        "        return wordnet.NOUN"
      ],
      "metadata": {
        "id": "TbWb5s5yLLam"
      },
      "execution_count": null,
      "outputs": []
    },
    {
      "cell_type": "markdown",
      "source": [
        "Cleans the raw text by removing HTML tags, lowercasing, stripping punctuation, tokenizing, and removing stopwords to provide a standardized list of tokens."
      ],
      "metadata": {
        "id": "JnvxDebBLQyy"
      }
    },
    {
      "cell_type": "code",
      "source": [
        "def preprocess_text_basic(text):\n",
        "\n",
        "    text = re.sub(r\"<[^>]+>\", \" \", text)\n",
        "    text = text.lower()\n",
        "    text = text.translate(str.maketrans(\"\", \"\", string.punctuation))\n",
        "    tokens = word_tokenize(text)\n",
        "    return [w for w in tokens if w not in stop_words]"
      ],
      "metadata": {
        "id": "VQGnnuySLSPY"
      },
      "execution_count": null,
      "outputs": []
    },
    {
      "cell_type": "markdown",
      "source": [
        "Joins the tokens produced by the basic preprocessing  "
      ],
      "metadata": {
        "id": "NhLTBC_zLXCo"
      }
    },
    {
      "cell_type": "code",
      "source": [
        "def process_basic(text):\n",
        "    tokens = preprocess_text_basic(text)\n",
        "    return \" \".join(tokens)"
      ],
      "metadata": {
        "id": "d-CLapkmLYkN"
      },
      "execution_count": null,
      "outputs": []
    },
    {
      "cell_type": "markdown",
      "source": [
        "Applies Porter **stemming** to reduce words to their root forms"
      ],
      "metadata": {
        "id": "wrM07oBZLbxh"
      }
    },
    {
      "cell_type": "code",
      "source": [
        "def process_stem(text):\n",
        "    tokens = preprocess_text_basic(text)\n",
        "    ps = PorterStemmer()\n",
        "    stemmed = [ps.stem(word) for word in tokens]\n",
        "    return \" \".join(stemmed)"
      ],
      "metadata": {
        "id": "vS-JM0muLdWe"
      },
      "execution_count": null,
      "outputs": []
    },
    {
      "cell_type": "markdown",
      "source": [
        "Uses WordNet **lemmatization** with POS tagging to convert words into their canonical forms"
      ],
      "metadata": {
        "id": "8moI3BgILgnp"
      }
    },
    {
      "cell_type": "code",
      "source": [
        "def process_lemma(text):\n",
        "    tokens = preprocess_text_basic(text)\n",
        "    lemmatizer = WordNetLemmatizer()\n",
        "    pos_tags = nltk.pos_tag(tokens)\n",
        "    lemmatized = [lemmatizer.lemmatize(word, get_wordnet_pos(tag)) for word, tag in pos_tags]\n",
        "    return \" \".join(lemmatized)"
      ],
      "metadata": {
        "id": "Cplg-1fyLiX5"
      },
      "execution_count": null,
      "outputs": []
    },
    {
      "cell_type": "markdown",
      "source": [
        "Cleans the text while preserving **exclamation and question marks** that can be critical for sentiment analysis in movie review text"
      ],
      "metadata": {
        "id": "mYk9_4VYLlMQ"
      }
    },
    {
      "cell_type": "code",
      "source": [
        "def process_preserve_exclamations(text):\n",
        "    # Remove punctuation except ! and ?\n",
        "    punct_to_remove = \"\".join([c for c in string.punctuation if c not in {\"!\", \"?\"}])\n",
        "    text = text.lower().translate(str.maketrans(\"\", \"\", punct_to_remove))\n",
        "    tokens = word_tokenize(text)\n",
        "    tokens = [w for w in tokens if w not in stop_words]\n",
        "    return \" \".join(tokens)"
      ],
      "metadata": {
        "id": "cSsIq-zMLnVV"
      },
      "execution_count": null,
      "outputs": []
    },
    {
      "cell_type": "markdown",
      "source": [
        "## Baseline Model"
      ],
      "metadata": {
        "id": "QfQ_aTcsLqww"
      }
    },
    {
      "cell_type": "markdown",
      "source": [
        "Baseline configuration: basic processing, CountVectorizer, Logistic Regression"
      ],
      "metadata": {
        "id": "KHy9OfNOLsyL"
      }
    },
    {
      "cell_type": "code",
      "source": [
        "random_state = 42\n",
        "baseline_processor = process_basic\n",
        "baseline_vectorizer = CountVectorizer(stop_words='english')\n",
        "baseline_classifier = LogisticRegression(max_iter=1000, random_state=random_state)"
      ],
      "metadata": {
        "id": "8mDY1m9GLuod"
      },
      "execution_count": null,
      "outputs": []
    },
    {
      "cell_type": "markdown",
      "source": [
        "Preprocess text"
      ],
      "metadata": {
        "id": "zIMRUxMqL1Ll"
      }
    },
    {
      "cell_type": "code",
      "source": [
        "df_train['processed'] = df_train['review'].apply(baseline_processor)\n",
        "\n",
        "#Transform the processed text using CountVectorizer\n",
        "\n",
        "X_train_final = baseline_vectorizer.fit_transform(df_train['processed'])\n",
        "y_train = df_train['sentiment']\n"
      ],
      "metadata": {
        "id": "UnDDsvaXL35o"
      },
      "execution_count": null,
      "outputs": []
    },
    {
      "cell_type": "code",
      "source": [
        "#Train the baseline model\n",
        "baseline_classifier.fit(X_train_final, y_train)\n",
        "\n",
        "#Preprocess text in the test set using the same baseline processor\n",
        "\n",
        "df_test['processed'] = df_test['review'].apply(baseline_processor)\n",
        "\n",
        "#Use transform on the test data\n",
        "\n",
        "X_test_final = baseline_vectorizer.transform(df_test['processed'])\n",
        "y_test_final = df_test['sentiment']\n",
        "\n",
        "#Evaluate the Model on the Test Set\n",
        "\n",
        "y_pred_test = baseline_classifier.predict(X_test_final)\n",
        "test_accuracy = accuracy_score(y_test_final, y_pred_test)\n",
        "print(\"Baseline Model Accuracy on df_test: {:.4f}\".format(test_accuracy))\n"
      ],
      "metadata": {
        "colab": {
          "base_uri": "https://localhost:8080/"
        },
        "id": "HG20WFjqMDci",
        "outputId": "763552c3-8045-4dd0-e258-60a59a7f6ef9"
      },
      "execution_count": null,
      "outputs": [
        {
          "output_type": "stream",
          "name": "stdout",
          "text": [
            "Baseline Model Accuracy on df_test: 0.8886\n"
          ]
        }
      ]
    },
    {
      "cell_type": "markdown",
      "source": [
        "## Evaluate Every Combination"
      ],
      "metadata": {
        "id": "sB56ELTbMPz5"
      }
    },
    {
      "cell_type": "code",
      "source": [
        "text_processors = {\n",
        "    \"basic\": process_basic,\n",
        "    \"stem\": process_stem,\n",
        "    \"lemma\": process_lemma,\n",
        "    \"preserve_exclamations\": process_preserve_exclamations\n",
        "}\n",
        "\n",
        "classifiers = {\n",
        "    \"Logistic Regression\": LogisticRegression(max_iter=1000, random_state=random_state),\n",
        "    \"Multinomial Naive Bayes\": MultinomialNB(),\n",
        "    \"Linear SVC\": LinearSVC(random_state=random_state)\n",
        "}\n",
        "\n",
        "vectorizers = {\n",
        "    \"CountVectorizer\": CountVectorizer(stop_words='english'),\n",
        "    \"TfidfVectorizer\": TfidfVectorizer(stop_words='english')\n",
        "}\n",
        "\n",
        "results = []\n",
        "\n",
        "# Loop over text processing methods\n",
        "for tp_name, tp_func in text_processors.items():\n",
        "    df_train['processed'] = df_train['review'].apply(tp_func)\n",
        "    df_test['processed'] = df_test['review'].apply(tp_func)\n",
        "\n",
        "    # Loop over vectorizers\n",
        "    for vec_name, vec in vectorizers.items():\n",
        "        X_train = vec.fit_transform(df_train['processed'])\n",
        "        X_test = vec.transform(df_test['processed'])\n",
        "\n",
        "        y_train = df_train['sentiment']\n",
        "        y_test = df_test['sentiment']\n",
        "\n",
        "        # Loop over classifiers\n",
        "        for clf_name, clf in classifiers.items():\n",
        "            model = classifiers[clf_name]\n",
        "            model.fit(X_train, y_train)\n",
        "            y_pred = model.predict(X_test)\n",
        "            acc = accuracy_score(y_test, y_pred)\n",
        "\n",
        "            results.append({\n",
        "                \"Text Processing\": tp_name,\n",
        "                \"Vectorizer\": vec_name,\n",
        "                \"Classifier\": clf_name,\n",
        "                \"Accuracy\": acc\n",
        "            })\n",
        "\n",
        "results_df = pd.DataFrame(results)\n",
        "results_df = results_df.sort_values(by=\"Accuracy\", ascending=False).reset_index(drop=True)\n",
        "results_df"
      ],
      "metadata": {
        "colab": {
          "base_uri": "https://localhost:8080/",
          "height": 802
        },
        "id": "u_k_nQMEMUbm",
        "outputId": "5bc7d279-36be-4a56-a404-3dc3c5956ce1"
      },
      "execution_count": null,
      "outputs": [
        {
          "output_type": "execute_result",
          "data": {
            "text/plain": [
              "          Text Processing       Vectorizer               Classifier  Accuracy\n",
              "0                   basic  TfidfVectorizer      Logistic Regression    0.8999\n",
              "1                   basic  TfidfVectorizer               Linear SVC    0.8999\n",
              "2   preserve_exclamations  TfidfVectorizer               Linear SVC    0.8991\n",
              "3   preserve_exclamations  TfidfVectorizer      Logistic Regression    0.8981\n",
              "4                    stem  TfidfVectorizer               Linear SVC    0.8963\n",
              "5                   lemma  TfidfVectorizer               Linear SVC    0.8962\n",
              "6                    stem  TfidfVectorizer      Logistic Regression    0.8943\n",
              "7                   lemma  TfidfVectorizer      Logistic Regression    0.8921\n",
              "8                   basic  CountVectorizer      Logistic Regression    0.8886\n",
              "9                    stem  CountVectorizer      Logistic Regression    0.8870\n",
              "10  preserve_exclamations  CountVectorizer      Logistic Regression    0.8861\n",
              "11                  lemma  CountVectorizer      Logistic Regression    0.8857\n",
              "12                  basic  CountVectorizer               Linear SVC    0.8725\n",
              "13  preserve_exclamations  CountVectorizer               Linear SVC    0.8708\n",
              "14                  basic  TfidfVectorizer  Multinomial Naive Bayes    0.8684\n",
              "15  preserve_exclamations  TfidfVectorizer  Multinomial Naive Bayes    0.8675\n",
              "16                  lemma  CountVectorizer               Linear SVC    0.8663\n",
              "17                  lemma  TfidfVectorizer  Multinomial Naive Bayes    0.8642\n",
              "18                  basic  CountVectorizer  Multinomial Naive Bayes    0.8634\n",
              "19                   stem  CountVectorizer               Linear SVC    0.8629\n",
              "20  preserve_exclamations  CountVectorizer  Multinomial Naive Bayes    0.8628\n",
              "21                   stem  TfidfVectorizer  Multinomial Naive Bayes    0.8612\n",
              "22                  lemma  CountVectorizer  Multinomial Naive Bayes    0.8584\n",
              "23                   stem  CountVectorizer  Multinomial Naive Bayes    0.8561"
            ],
            "text/html": [
              "\n",
              "  <div id=\"df-e592c376-0ff0-4112-868a-a58d4c3825d1\" class=\"colab-df-container\">\n",
              "    <div>\n",
              "<style scoped>\n",
              "    .dataframe tbody tr th:only-of-type {\n",
              "        vertical-align: middle;\n",
              "    }\n",
              "\n",
              "    .dataframe tbody tr th {\n",
              "        vertical-align: top;\n",
              "    }\n",
              "\n",
              "    .dataframe thead th {\n",
              "        text-align: right;\n",
              "    }\n",
              "</style>\n",
              "<table border=\"1\" class=\"dataframe\">\n",
              "  <thead>\n",
              "    <tr style=\"text-align: right;\">\n",
              "      <th></th>\n",
              "      <th>Text Processing</th>\n",
              "      <th>Vectorizer</th>\n",
              "      <th>Classifier</th>\n",
              "      <th>Accuracy</th>\n",
              "    </tr>\n",
              "  </thead>\n",
              "  <tbody>\n",
              "    <tr>\n",
              "      <th>0</th>\n",
              "      <td>basic</td>\n",
              "      <td>TfidfVectorizer</td>\n",
              "      <td>Logistic Regression</td>\n",
              "      <td>0.8999</td>\n",
              "    </tr>\n",
              "    <tr>\n",
              "      <th>1</th>\n",
              "      <td>basic</td>\n",
              "      <td>TfidfVectorizer</td>\n",
              "      <td>Linear SVC</td>\n",
              "      <td>0.8999</td>\n",
              "    </tr>\n",
              "    <tr>\n",
              "      <th>2</th>\n",
              "      <td>preserve_exclamations</td>\n",
              "      <td>TfidfVectorizer</td>\n",
              "      <td>Linear SVC</td>\n",
              "      <td>0.8991</td>\n",
              "    </tr>\n",
              "    <tr>\n",
              "      <th>3</th>\n",
              "      <td>preserve_exclamations</td>\n",
              "      <td>TfidfVectorizer</td>\n",
              "      <td>Logistic Regression</td>\n",
              "      <td>0.8981</td>\n",
              "    </tr>\n",
              "    <tr>\n",
              "      <th>4</th>\n",
              "      <td>stem</td>\n",
              "      <td>TfidfVectorizer</td>\n",
              "      <td>Linear SVC</td>\n",
              "      <td>0.8963</td>\n",
              "    </tr>\n",
              "    <tr>\n",
              "      <th>5</th>\n",
              "      <td>lemma</td>\n",
              "      <td>TfidfVectorizer</td>\n",
              "      <td>Linear SVC</td>\n",
              "      <td>0.8962</td>\n",
              "    </tr>\n",
              "    <tr>\n",
              "      <th>6</th>\n",
              "      <td>stem</td>\n",
              "      <td>TfidfVectorizer</td>\n",
              "      <td>Logistic Regression</td>\n",
              "      <td>0.8943</td>\n",
              "    </tr>\n",
              "    <tr>\n",
              "      <th>7</th>\n",
              "      <td>lemma</td>\n",
              "      <td>TfidfVectorizer</td>\n",
              "      <td>Logistic Regression</td>\n",
              "      <td>0.8921</td>\n",
              "    </tr>\n",
              "    <tr>\n",
              "      <th>8</th>\n",
              "      <td>basic</td>\n",
              "      <td>CountVectorizer</td>\n",
              "      <td>Logistic Regression</td>\n",
              "      <td>0.8886</td>\n",
              "    </tr>\n",
              "    <tr>\n",
              "      <th>9</th>\n",
              "      <td>stem</td>\n",
              "      <td>CountVectorizer</td>\n",
              "      <td>Logistic Regression</td>\n",
              "      <td>0.8870</td>\n",
              "    </tr>\n",
              "    <tr>\n",
              "      <th>10</th>\n",
              "      <td>preserve_exclamations</td>\n",
              "      <td>CountVectorizer</td>\n",
              "      <td>Logistic Regression</td>\n",
              "      <td>0.8861</td>\n",
              "    </tr>\n",
              "    <tr>\n",
              "      <th>11</th>\n",
              "      <td>lemma</td>\n",
              "      <td>CountVectorizer</td>\n",
              "      <td>Logistic Regression</td>\n",
              "      <td>0.8857</td>\n",
              "    </tr>\n",
              "    <tr>\n",
              "      <th>12</th>\n",
              "      <td>basic</td>\n",
              "      <td>CountVectorizer</td>\n",
              "      <td>Linear SVC</td>\n",
              "      <td>0.8725</td>\n",
              "    </tr>\n",
              "    <tr>\n",
              "      <th>13</th>\n",
              "      <td>preserve_exclamations</td>\n",
              "      <td>CountVectorizer</td>\n",
              "      <td>Linear SVC</td>\n",
              "      <td>0.8708</td>\n",
              "    </tr>\n",
              "    <tr>\n",
              "      <th>14</th>\n",
              "      <td>basic</td>\n",
              "      <td>TfidfVectorizer</td>\n",
              "      <td>Multinomial Naive Bayes</td>\n",
              "      <td>0.8684</td>\n",
              "    </tr>\n",
              "    <tr>\n",
              "      <th>15</th>\n",
              "      <td>preserve_exclamations</td>\n",
              "      <td>TfidfVectorizer</td>\n",
              "      <td>Multinomial Naive Bayes</td>\n",
              "      <td>0.8675</td>\n",
              "    </tr>\n",
              "    <tr>\n",
              "      <th>16</th>\n",
              "      <td>lemma</td>\n",
              "      <td>CountVectorizer</td>\n",
              "      <td>Linear SVC</td>\n",
              "      <td>0.8663</td>\n",
              "    </tr>\n",
              "    <tr>\n",
              "      <th>17</th>\n",
              "      <td>lemma</td>\n",
              "      <td>TfidfVectorizer</td>\n",
              "      <td>Multinomial Naive Bayes</td>\n",
              "      <td>0.8642</td>\n",
              "    </tr>\n",
              "    <tr>\n",
              "      <th>18</th>\n",
              "      <td>basic</td>\n",
              "      <td>CountVectorizer</td>\n",
              "      <td>Multinomial Naive Bayes</td>\n",
              "      <td>0.8634</td>\n",
              "    </tr>\n",
              "    <tr>\n",
              "      <th>19</th>\n",
              "      <td>stem</td>\n",
              "      <td>CountVectorizer</td>\n",
              "      <td>Linear SVC</td>\n",
              "      <td>0.8629</td>\n",
              "    </tr>\n",
              "    <tr>\n",
              "      <th>20</th>\n",
              "      <td>preserve_exclamations</td>\n",
              "      <td>CountVectorizer</td>\n",
              "      <td>Multinomial Naive Bayes</td>\n",
              "      <td>0.8628</td>\n",
              "    </tr>\n",
              "    <tr>\n",
              "      <th>21</th>\n",
              "      <td>stem</td>\n",
              "      <td>TfidfVectorizer</td>\n",
              "      <td>Multinomial Naive Bayes</td>\n",
              "      <td>0.8612</td>\n",
              "    </tr>\n",
              "    <tr>\n",
              "      <th>22</th>\n",
              "      <td>lemma</td>\n",
              "      <td>CountVectorizer</td>\n",
              "      <td>Multinomial Naive Bayes</td>\n",
              "      <td>0.8584</td>\n",
              "    </tr>\n",
              "    <tr>\n",
              "      <th>23</th>\n",
              "      <td>stem</td>\n",
              "      <td>CountVectorizer</td>\n",
              "      <td>Multinomial Naive Bayes</td>\n",
              "      <td>0.8561</td>\n",
              "    </tr>\n",
              "  </tbody>\n",
              "</table>\n",
              "</div>\n",
              "    <div class=\"colab-df-buttons\">\n",
              "\n",
              "  <div class=\"colab-df-container\">\n",
              "    <button class=\"colab-df-convert\" onclick=\"convertToInteractive('df-e592c376-0ff0-4112-868a-a58d4c3825d1')\"\n",
              "            title=\"Convert this dataframe to an interactive table.\"\n",
              "            style=\"display:none;\">\n",
              "\n",
              "  <svg xmlns=\"http://www.w3.org/2000/svg\" height=\"24px\" viewBox=\"0 -960 960 960\">\n",
              "    <path d=\"M120-120v-720h720v720H120Zm60-500h600v-160H180v160Zm220 220h160v-160H400v160Zm0 220h160v-160H400v160ZM180-400h160v-160H180v160Zm440 0h160v-160H620v160ZM180-180h160v-160H180v160Zm440 0h160v-160H620v160Z\"/>\n",
              "  </svg>\n",
              "    </button>\n",
              "\n",
              "  <style>\n",
              "    .colab-df-container {\n",
              "      display:flex;\n",
              "      gap: 12px;\n",
              "    }\n",
              "\n",
              "    .colab-df-convert {\n",
              "      background-color: #E8F0FE;\n",
              "      border: none;\n",
              "      border-radius: 50%;\n",
              "      cursor: pointer;\n",
              "      display: none;\n",
              "      fill: #1967D2;\n",
              "      height: 32px;\n",
              "      padding: 0 0 0 0;\n",
              "      width: 32px;\n",
              "    }\n",
              "\n",
              "    .colab-df-convert:hover {\n",
              "      background-color: #E2EBFA;\n",
              "      box-shadow: 0px 1px 2px rgba(60, 64, 67, 0.3), 0px 1px 3px 1px rgba(60, 64, 67, 0.15);\n",
              "      fill: #174EA6;\n",
              "    }\n",
              "\n",
              "    .colab-df-buttons div {\n",
              "      margin-bottom: 4px;\n",
              "    }\n",
              "\n",
              "    [theme=dark] .colab-df-convert {\n",
              "      background-color: #3B4455;\n",
              "      fill: #D2E3FC;\n",
              "    }\n",
              "\n",
              "    [theme=dark] .colab-df-convert:hover {\n",
              "      background-color: #434B5C;\n",
              "      box-shadow: 0px 1px 3px 1px rgba(0, 0, 0, 0.15);\n",
              "      filter: drop-shadow(0px 1px 2px rgba(0, 0, 0, 0.3));\n",
              "      fill: #FFFFFF;\n",
              "    }\n",
              "  </style>\n",
              "\n",
              "    <script>\n",
              "      const buttonEl =\n",
              "        document.querySelector('#df-e592c376-0ff0-4112-868a-a58d4c3825d1 button.colab-df-convert');\n",
              "      buttonEl.style.display =\n",
              "        google.colab.kernel.accessAllowed ? 'block' : 'none';\n",
              "\n",
              "      async function convertToInteractive(key) {\n",
              "        const element = document.querySelector('#df-e592c376-0ff0-4112-868a-a58d4c3825d1');\n",
              "        const dataTable =\n",
              "          await google.colab.kernel.invokeFunction('convertToInteractive',\n",
              "                                                    [key], {});\n",
              "        if (!dataTable) return;\n",
              "\n",
              "        const docLinkHtml = 'Like what you see? Visit the ' +\n",
              "          '<a target=\"_blank\" href=https://colab.research.google.com/notebooks/data_table.ipynb>data table notebook</a>'\n",
              "          + ' to learn more about interactive tables.';\n",
              "        element.innerHTML = '';\n",
              "        dataTable['output_type'] = 'display_data';\n",
              "        await google.colab.output.renderOutput(dataTable, element);\n",
              "        const docLink = document.createElement('div');\n",
              "        docLink.innerHTML = docLinkHtml;\n",
              "        element.appendChild(docLink);\n",
              "      }\n",
              "    </script>\n",
              "  </div>\n",
              "\n",
              "\n",
              "<div id=\"df-bd494faf-4568-44d7-9ea7-a5a5e2b7d508\">\n",
              "  <button class=\"colab-df-quickchart\" onclick=\"quickchart('df-bd494faf-4568-44d7-9ea7-a5a5e2b7d508')\"\n",
              "            title=\"Suggest charts\"\n",
              "            style=\"display:none;\">\n",
              "\n",
              "<svg xmlns=\"http://www.w3.org/2000/svg\" height=\"24px\"viewBox=\"0 0 24 24\"\n",
              "     width=\"24px\">\n",
              "    <g>\n",
              "        <path d=\"M19 3H5c-1.1 0-2 .9-2 2v14c0 1.1.9 2 2 2h14c1.1 0 2-.9 2-2V5c0-1.1-.9-2-2-2zM9 17H7v-7h2v7zm4 0h-2V7h2v10zm4 0h-2v-4h2v4z\"/>\n",
              "    </g>\n",
              "</svg>\n",
              "  </button>\n",
              "\n",
              "<style>\n",
              "  .colab-df-quickchart {\n",
              "      --bg-color: #E8F0FE;\n",
              "      --fill-color: #1967D2;\n",
              "      --hover-bg-color: #E2EBFA;\n",
              "      --hover-fill-color: #174EA6;\n",
              "      --disabled-fill-color: #AAA;\n",
              "      --disabled-bg-color: #DDD;\n",
              "  }\n",
              "\n",
              "  [theme=dark] .colab-df-quickchart {\n",
              "      --bg-color: #3B4455;\n",
              "      --fill-color: #D2E3FC;\n",
              "      --hover-bg-color: #434B5C;\n",
              "      --hover-fill-color: #FFFFFF;\n",
              "      --disabled-bg-color: #3B4455;\n",
              "      --disabled-fill-color: #666;\n",
              "  }\n",
              "\n",
              "  .colab-df-quickchart {\n",
              "    background-color: var(--bg-color);\n",
              "    border: none;\n",
              "    border-radius: 50%;\n",
              "    cursor: pointer;\n",
              "    display: none;\n",
              "    fill: var(--fill-color);\n",
              "    height: 32px;\n",
              "    padding: 0;\n",
              "    width: 32px;\n",
              "  }\n",
              "\n",
              "  .colab-df-quickchart:hover {\n",
              "    background-color: var(--hover-bg-color);\n",
              "    box-shadow: 0 1px 2px rgba(60, 64, 67, 0.3), 0 1px 3px 1px rgba(60, 64, 67, 0.15);\n",
              "    fill: var(--button-hover-fill-color);\n",
              "  }\n",
              "\n",
              "  .colab-df-quickchart-complete:disabled,\n",
              "  .colab-df-quickchart-complete:disabled:hover {\n",
              "    background-color: var(--disabled-bg-color);\n",
              "    fill: var(--disabled-fill-color);\n",
              "    box-shadow: none;\n",
              "  }\n",
              "\n",
              "  .colab-df-spinner {\n",
              "    border: 2px solid var(--fill-color);\n",
              "    border-color: transparent;\n",
              "    border-bottom-color: var(--fill-color);\n",
              "    animation:\n",
              "      spin 1s steps(1) infinite;\n",
              "  }\n",
              "\n",
              "  @keyframes spin {\n",
              "    0% {\n",
              "      border-color: transparent;\n",
              "      border-bottom-color: var(--fill-color);\n",
              "      border-left-color: var(--fill-color);\n",
              "    }\n",
              "    20% {\n",
              "      border-color: transparent;\n",
              "      border-left-color: var(--fill-color);\n",
              "      border-top-color: var(--fill-color);\n",
              "    }\n",
              "    30% {\n",
              "      border-color: transparent;\n",
              "      border-left-color: var(--fill-color);\n",
              "      border-top-color: var(--fill-color);\n",
              "      border-right-color: var(--fill-color);\n",
              "    }\n",
              "    40% {\n",
              "      border-color: transparent;\n",
              "      border-right-color: var(--fill-color);\n",
              "      border-top-color: var(--fill-color);\n",
              "    }\n",
              "    60% {\n",
              "      border-color: transparent;\n",
              "      border-right-color: var(--fill-color);\n",
              "    }\n",
              "    80% {\n",
              "      border-color: transparent;\n",
              "      border-right-color: var(--fill-color);\n",
              "      border-bottom-color: var(--fill-color);\n",
              "    }\n",
              "    90% {\n",
              "      border-color: transparent;\n",
              "      border-bottom-color: var(--fill-color);\n",
              "    }\n",
              "  }\n",
              "</style>\n",
              "\n",
              "  <script>\n",
              "    async function quickchart(key) {\n",
              "      const quickchartButtonEl =\n",
              "        document.querySelector('#' + key + ' button');\n",
              "      quickchartButtonEl.disabled = true;  // To prevent multiple clicks.\n",
              "      quickchartButtonEl.classList.add('colab-df-spinner');\n",
              "      try {\n",
              "        const charts = await google.colab.kernel.invokeFunction(\n",
              "            'suggestCharts', [key], {});\n",
              "      } catch (error) {\n",
              "        console.error('Error during call to suggestCharts:', error);\n",
              "      }\n",
              "      quickchartButtonEl.classList.remove('colab-df-spinner');\n",
              "      quickchartButtonEl.classList.add('colab-df-quickchart-complete');\n",
              "    }\n",
              "    (() => {\n",
              "      let quickchartButtonEl =\n",
              "        document.querySelector('#df-bd494faf-4568-44d7-9ea7-a5a5e2b7d508 button');\n",
              "      quickchartButtonEl.style.display =\n",
              "        google.colab.kernel.accessAllowed ? 'block' : 'none';\n",
              "    })();\n",
              "  </script>\n",
              "</div>\n",
              "\n",
              "  <div id=\"id_411d7998-0b52-4995-823c-72f6ddabf49c\">\n",
              "    <style>\n",
              "      .colab-df-generate {\n",
              "        background-color: #E8F0FE;\n",
              "        border: none;\n",
              "        border-radius: 50%;\n",
              "        cursor: pointer;\n",
              "        display: none;\n",
              "        fill: #1967D2;\n",
              "        height: 32px;\n",
              "        padding: 0 0 0 0;\n",
              "        width: 32px;\n",
              "      }\n",
              "\n",
              "      .colab-df-generate:hover {\n",
              "        background-color: #E2EBFA;\n",
              "        box-shadow: 0px 1px 2px rgba(60, 64, 67, 0.3), 0px 1px 3px 1px rgba(60, 64, 67, 0.15);\n",
              "        fill: #174EA6;\n",
              "      }\n",
              "\n",
              "      [theme=dark] .colab-df-generate {\n",
              "        background-color: #3B4455;\n",
              "        fill: #D2E3FC;\n",
              "      }\n",
              "\n",
              "      [theme=dark] .colab-df-generate:hover {\n",
              "        background-color: #434B5C;\n",
              "        box-shadow: 0px 1px 3px 1px rgba(0, 0, 0, 0.15);\n",
              "        filter: drop-shadow(0px 1px 2px rgba(0, 0, 0, 0.3));\n",
              "        fill: #FFFFFF;\n",
              "      }\n",
              "    </style>\n",
              "    <button class=\"colab-df-generate\" onclick=\"generateWithVariable('results_df')\"\n",
              "            title=\"Generate code using this dataframe.\"\n",
              "            style=\"display:none;\">\n",
              "\n",
              "  <svg xmlns=\"http://www.w3.org/2000/svg\" height=\"24px\"viewBox=\"0 0 24 24\"\n",
              "       width=\"24px\">\n",
              "    <path d=\"M7,19H8.4L18.45,9,17,7.55,7,17.6ZM5,21V16.75L18.45,3.32a2,2,0,0,1,2.83,0l1.4,1.43a1.91,1.91,0,0,1,.58,1.4,1.91,1.91,0,0,1-.58,1.4L9.25,21ZM18.45,9,17,7.55Zm-12,3A5.31,5.31,0,0,0,4.9,8.1,5.31,5.31,0,0,0,1,6.5,5.31,5.31,0,0,0,4.9,4.9,5.31,5.31,0,0,0,6.5,1,5.31,5.31,0,0,0,8.1,4.9,5.31,5.31,0,0,0,12,6.5,5.46,5.46,0,0,0,6.5,12Z\"/>\n",
              "  </svg>\n",
              "    </button>\n",
              "    <script>\n",
              "      (() => {\n",
              "      const buttonEl =\n",
              "        document.querySelector('#id_411d7998-0b52-4995-823c-72f6ddabf49c button.colab-df-generate');\n",
              "      buttonEl.style.display =\n",
              "        google.colab.kernel.accessAllowed ? 'block' : 'none';\n",
              "\n",
              "      buttonEl.onclick = () => {\n",
              "        google.colab.notebook.generateWithVariable('results_df');\n",
              "      }\n",
              "      })();\n",
              "    </script>\n",
              "  </div>\n",
              "\n",
              "    </div>\n",
              "  </div>\n"
            ],
            "application/vnd.google.colaboratory.intrinsic+json": {
              "type": "dataframe",
              "variable_name": "results_df",
              "summary": "{\n  \"name\": \"results_df\",\n  \"rows\": 24,\n  \"fields\": [\n    {\n      \"column\": \"Text Processing\",\n      \"properties\": {\n        \"dtype\": \"category\",\n        \"num_unique_values\": 4,\n        \"samples\": [\n          \"preserve_exclamations\",\n          \"lemma\",\n          \"basic\"\n        ],\n        \"semantic_type\": \"\",\n        \"description\": \"\"\n      }\n    },\n    {\n      \"column\": \"Vectorizer\",\n      \"properties\": {\n        \"dtype\": \"category\",\n        \"num_unique_values\": 2,\n        \"samples\": [\n          \"CountVectorizer\",\n          \"TfidfVectorizer\"\n        ],\n        \"semantic_type\": \"\",\n        \"description\": \"\"\n      }\n    },\n    {\n      \"column\": \"Classifier\",\n      \"properties\": {\n        \"dtype\": \"category\",\n        \"num_unique_values\": 3,\n        \"samples\": [\n          \"Logistic Regression\",\n          \"Linear SVC\"\n        ],\n        \"semantic_type\": \"\",\n        \"description\": \"\"\n      }\n    },\n    {\n      \"column\": \"Accuracy\",\n      \"properties\": {\n        \"dtype\": \"number\",\n        \"std\": 0.015686667005426317,\n        \"min\": 0.8561,\n        \"max\": 0.8999,\n        \"num_unique_values\": 23,\n        \"samples\": [\n          0.8663,\n          0.8861\n        ],\n        \"semantic_type\": \"\",\n        \"description\": \"\"\n      }\n    }\n  ]\n}"
            }
          },
          "metadata": {},
          "execution_count": 46
        }
      ]
    },
    {
      "cell_type": "markdown",
      "source": [
        "**Observations:**\n",
        "*\tVectorization Impact:\n",
        "Models using TfidfVectorizer consistently outperform those using CountVectorizer. This indicates that incorporating term frequency–inverse document frequency weighting helps in highlighting the most informative words while down-weighting common but less informative ones.\n",
        "\n",
        "* Text Processing Methods:\n",
        "While the variations in text preprocessing (basic, stem, lemma, preserve_exclamations) do affect the accuracy slightly, the **basic processing** method paired with TF-IDF tends to produce the best or near-best performance.\n",
        "\n",
        "* Classifier Performance:\n",
        "Both **Linear SVC** and **Logistic Regression** yield very competitive results with TF-IDF. Multinomial Naive Bayes tends to underperform in this setup.\n",
        "\n",
        "All the models achieve accuracy above the minimum threshold of **0.85**, with the best models approaching **0.90** accuracy. This meets the modeling requirement and demonstrates that the chosen approaches are effective for the sentiment classification task."
      ],
      "metadata": {
        "id": "uGb1W727QB1T"
      }
    },
    {
      "cell_type": "markdown",
      "source": [
        "## **Modeling Summary**\n",
        "\n",
        "- **Baseline Model:** Established using basic text processing and CountVectorizer with Logistic Regression (88.84% accuracy).\n",
        "- **Best Model Selection:** The combination of basic text processing with TfidfVectorizer and either Linear SVC or Logistic Regression provided the best performance (∼90% accuracy), indicating that simple yet effective preprocessing coupled with a robust feature extraction method can yield excellent results.\n",
        "- **Performance Evaluation:** All models exceed 85% accuracy, with the best configurations performing close to 90%, which is strong for a sentiment analysis task on a large and balanced movie review dataset."
      ],
      "metadata": {
        "id": "CaQevr6UbhTA"
      }
    },
    {
      "cell_type": "markdown",
      "source": [
        "# **Business Applications & Value**\n",
        "\n",
        "Sentiment analysis is a **powerful tool** for extracting insights from customer feedback, influencing strategic decision-making, and enhancing market intelligence. The findings from modeling (achieving nearly **90% accuracy**) highlight key areas where sentiment analysis provides business value:\n",
        "\n",
        "### **1. Customer Experience & Recommendation Systems**\n",
        "Identifying **key sentiment trends** in reviews allows businesses to understand consumer perception better. These insights can be used to **enhance recommendation systems**, such as suggesting movies based on positive user sentiment, improving engagement and personalization (refer to Most Common Words Analysis section).\n",
        "\n",
        "### **2. Brand Reputation & Crisis Management**\n",
        "Sentiment shifts serve as **early indicators of public perception**, enabling businesses to address negative trends before they escalate. Real-time monitoring of reviews and social media can support **brand reputation management and crisis response** (see Review Lengths Analysis and Sentiment Distribution Analysis).\n",
        "\n",
        "### **3. Competitive Intelligence & Market Positioning**\n",
        "By analyzing sentiment trends across industries, businesses can gain **actionable insights into competitor strengths and weaknesses**, allowing for data-driven strategic positioning and differentiation (see Most Common Words Analysis section).\n"
      ],
      "metadata": {
        "id": "tS96U9N56x1b"
      }
    },
    {
      "cell_type": "markdown",
      "source": [
        "# **Conclusion**\n",
        "\n",
        "The sentiment classification models achieved **near 90% accuracy**, surpassing the **85% benchmark**, validating the effectiveness of text preprocessing, vectorization, and classification methods (refer to Model Evaluation results). These insights hold strong business value, from **enhancing customer engagement and marketing impact** to **strengthening brand positioning and competitive intelligence**. This study underscores the **strategic importance of sentiment analysis** in modern business environments."
      ],
      "metadata": {
        "id": "ziLxLLsl68RF"
      }
    }
  ]
}